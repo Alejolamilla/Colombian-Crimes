{
 "cells": [
  {
   "cell_type": "code",
   "execution_count": 49,
   "metadata": {},
   "outputs": [
    {
     "name": "stdout",
     "output_type": "stream",
     "text": [
      "The autoreload extension is already loaded. To reload it, use:\n",
      "  %reload_ext autoreload\n"
     ]
    }
   ],
   "source": [
    "%load_ext autoreload\n",
    "%autoreload 2\n",
    "\n",
    "import toolbox\n",
    "import pandas as pd"
   ]
  },
  {
   "cell_type": "markdown",
   "metadata": {},
   "source": [
    "# Importing the Data"
   ]
  },
  {
   "cell_type": "code",
   "execution_count": 50,
   "metadata": {},
   "outputs": [],
   "source": [
    "# Where the raw data is hosted\n",
    "raw_data = \"../Data/Raw/\""
   ]
  },
  {
   "cell_type": "code",
   "execution_count": 51,
   "metadata": {},
   "outputs": [],
   "source": [
    "# Convert the excel files into pd objects and load them on a dictionary\n",
    "dataframes = toolbox.load_xlsx_dataframes(raw_data, avoid=[\".gitkeep\"], skip_rows=9, skip_footer=6)"
   ]
  },
  {
   "cell_type": "markdown",
   "metadata": {},
   "source": [
    "# Cleaning the Data"
   ]
  },
  {
   "cell_type": "code",
   "execution_count": 52,
   "metadata": {},
   "outputs": [
    {
     "data": {
      "text/plain": [
       "ARMA MEDIO               46250\n",
       "DEPARTAMENTO             14726\n",
       "MUNICIPIO                    0\n",
       "FECHA HECHO              46250\n",
       "GENERO                   46498\n",
       "*AGRUPA_EDAD_PERSONA     35019\n",
       "CODIGO DANE              46250\n",
       "CANTIDAD                     0\n",
       "DELITO                       0\n",
       "ARMAS_MEDIOS            268179\n",
       "FECHA                   268179\n",
       "CODIGO_DANE             268179\n",
       "GENERO                  302950\n",
       "DELITOS                 301576\n",
       "DEPARTAMENTO            299703\n",
       "dtype: int64"
      ]
     },
     "execution_count": 52,
     "metadata": {},
     "output_type": "execute_result"
    }
   ],
   "source": [
    "# Join all the dataframes into one\n",
    "df = pd.concat(dataframe for dataframe in dataframes.values())\n",
    "df.shape\n",
    "\n",
    "df.isna().sum()"
   ]
  },
  {
   "cell_type": "code",
   "execution_count": 53,
   "metadata": {},
   "outputs": [
    {
     "name": "stdout",
     "output_type": "stream",
     "text": [
      "9\n",
      "7\n",
      "9\n",
      "9\n",
      "7\n",
      "9\n",
      "9\n",
      "10\n",
      "9\n",
      "9\n",
      "9\n",
      "7\n",
      "9\n",
      "7\n",
      "9\n",
      "9\n",
      "7\n",
      "9\n",
      "7\n",
      "9\n"
     ]
    }
   ],
   "source": [
    "# How many columns has each df?\n",
    "for dataframe in dataframes.values():\n",
    "    print(len(list(dataframe.columns)))"
   ]
  },
  {
   "cell_type": "code",
   "execution_count": 54,
   "metadata": {},
   "outputs": [
    {
     "name": "stdout",
     "output_type": "stream",
     "text": [
      "9\n",
      "7\n",
      "9\n",
      "9\n",
      "7\n",
      "9\n",
      "9\n",
      "9\n",
      "9\n",
      "9\n",
      "9\n",
      "7\n",
      "9\n",
      "7\n",
      "9\n",
      "9\n",
      "7\n",
      "9\n",
      "7\n",
      "9\n"
     ]
    }
   ],
   "source": [
    "# Removing the column \"DELITOS\" since it only for this dataframe and will not aport any further information to the general data\n",
    "dataframes[\"delitos_sexuales_4.xlsx\"] = dataframes[\"delitos_sexuales_4.xlsx\"].drop(\"DELITOS\", axis=1)\n",
    "for dataframe in dataframes.values():\n",
    "    print(len(list(dataframe.columns)))"
   ]
  },
  {
   "cell_type": "code",
   "execution_count": 63,
   "metadata": {},
   "outputs": [
    {
     "data": {
      "text/plain": [
       "[9, 7, 9, 9, 7, 9, 9, 9, 9, 9, 9, 7, 9, 7, 9, 9, 7, 9, 7, 9]"
      ]
     },
     "execution_count": 63,
     "metadata": {},
     "output_type": "execute_result"
    }
   ],
   "source": [
    "# Convertig the dictionary into a list of dataframes to have an specific order (dictionaries doesnt have order)\n",
    "df_list = list(dataframes.values())\n",
    "[len(df.columns) for df in df_list]"
   ]
  },
  {
   "cell_type": "code",
   "execution_count": 58,
   "metadata": {},
   "outputs": [
    {
     "name": "stdout",
     "output_type": "stream",
     "text": [
      "GENERO \n",
      "CODIGO_DANE\n",
      "GENERO \n",
      "GENERO \n",
      "CODIGO DANE \n",
      "GENERO \n",
      "GENERO\n",
      "GENERO \n",
      "CODIGO DANE \n",
      "GENERO \n",
      "GENERO \n",
      "CODIGO_DANE\n",
      "GENERO \n",
      "CODIGO_DANE\n",
      "GENERO \n",
      "GENERO \n",
      "CODIGO DANE \n",
      "GENERO \n",
      "CODIGO DANE \n",
      "GENERO \n"
     ]
    }
   ],
   "source": [
    "for dataframe in dataframes.values():\n",
    "    print(dataframe.columns[4])"
   ]
  },
  {
   "cell_type": "markdown",
   "metadata": {},
   "source": [
    "I will add the genre column to the dataframes that doesnt have it to be consistent when the dataframs are joint."
   ]
  },
  {
   "cell_type": "code",
   "execution_count": 64,
   "metadata": {},
   "outputs": [
    {
     "data": {
      "text/plain": [
       "[None, None, None, None, None, None]"
      ]
     },
     "execution_count": 64,
     "metadata": {},
     "output_type": "execute_result"
    }
   ],
   "source": [
    "# List of dataframes\n",
    "dataframes_list = list(dataframes.values())\n",
    "\n",
    "# List of dataframes that doesnt have the column \"GENERO\"\n",
    "non_genre_cols = [1,4,11,13,16,18]\n",
    "\n",
    "# Add the column \"genre\"\n",
    "[dataframes_list[col].insert(4, \"genero\", \"desconocido\") for col in non_genre_cols]\n",
    "\n",
    "# Adding the column \"age_group\" to the columns that doesnt have it by default\n",
    "[dataframes_list[col].insert(5, \"age_group\", \"desconocido\") for col in non_genre_cols]"
   ]
  },
  {
   "cell_type": "code",
   "execution_count": 65,
   "metadata": {},
   "outputs": [
    {
     "name": "stdout",
     "output_type": "stream",
     "text": [
      "9\n",
      "9\n",
      "9\n",
      "9\n",
      "9\n",
      "9\n",
      "9\n",
      "9\n",
      "9\n",
      "9\n",
      "9\n",
      "9\n",
      "9\n",
      "9\n",
      "9\n",
      "9\n",
      "9\n",
      "9\n",
      "9\n",
      "9\n"
     ]
    }
   ],
   "source": [
    "# checking if now all dataframes have the same amount of columns\n",
    "for dataframe in dataframes.values():\n",
    "    print(len(list(dataframe.columns)))"
   ]
  },
  {
   "cell_type": "code",
   "execution_count": 70,
   "metadata": {},
   "outputs": [],
   "source": [
    "# The new name for the columns\n",
    "new_column_names = [\"arma\", \"departamento\", \"municipio\", \"fecha\", \"genero\", \"grupo_etario\", \"codigo_dane\", \"cantidad\", \"delito\"]\n",
    "\n",
    "#change the name of the columns\n",
    "for i in range(9):\n",
    "    df_list = toolbox.update_columns_name(df_list, i, new_column_names[i])"
   ]
  },
  {
   "cell_type": "code",
   "execution_count": 71,
   "metadata": {},
   "outputs": [
    {
     "name": "stdout",
     "output_type": "stream",
     "text": [
      "Index(['arma', 'departamento', 'municipio', 'fecha', 'genero', 'grupo_etario',\n",
      "       'codigo_dane', 'cantidad', 'delito'],\n",
      "      dtype='object')\n",
      "Index(['arma', 'departamento', 'municipio', 'fecha', 'genero', 'grupo_etario',\n",
      "       'codigo_dane', 'cantidad', 'delito'],\n",
      "      dtype='object')\n",
      "Index(['arma', 'departamento', 'municipio', 'fecha', 'genero', 'grupo_etario',\n",
      "       'codigo_dane', 'cantidad', 'delito'],\n",
      "      dtype='object')\n",
      "Index(['arma', 'departamento', 'municipio', 'fecha', 'genero', 'grupo_etario',\n",
      "       'codigo_dane', 'cantidad', 'delito'],\n",
      "      dtype='object')\n",
      "Index(['arma', 'departamento', 'municipio', 'fecha', 'genero', 'grupo_etario',\n",
      "       'codigo_dane', 'cantidad', 'delito'],\n",
      "      dtype='object')\n",
      "Index(['arma', 'departamento', 'municipio', 'fecha', 'genero', 'grupo_etario',\n",
      "       'codigo_dane', 'cantidad', 'delito'],\n",
      "      dtype='object')\n",
      "Index(['arma', 'departamento', 'municipio', 'fecha', 'genero', 'grupo_etario',\n",
      "       'codigo_dane', 'cantidad', 'delito'],\n",
      "      dtype='object')\n",
      "Index(['arma', 'departamento', 'municipio', 'fecha', 'genero', 'grupo_etario',\n",
      "       'codigo_dane', 'cantidad', 'delito'],\n",
      "      dtype='object')\n",
      "Index(['arma', 'departamento', 'municipio', 'fecha', 'genero', 'grupo_etario',\n",
      "       'codigo_dane', 'cantidad', 'delito'],\n",
      "      dtype='object')\n",
      "Index(['arma', 'departamento', 'municipio', 'fecha', 'genero', 'grupo_etario',\n",
      "       'codigo_dane', 'cantidad', 'delito'],\n",
      "      dtype='object')\n",
      "Index(['arma', 'departamento', 'municipio', 'fecha', 'genero', 'grupo_etario',\n",
      "       'codigo_dane', 'cantidad', 'delito'],\n",
      "      dtype='object')\n",
      "Index(['arma', 'departamento', 'municipio', 'fecha', 'genero', 'grupo_etario',\n",
      "       'codigo_dane', 'cantidad', 'delito'],\n",
      "      dtype='object')\n",
      "Index(['arma', 'departamento', 'municipio', 'fecha', 'genero', 'grupo_etario',\n",
      "       'codigo_dane', 'cantidad', 'delito'],\n",
      "      dtype='object')\n",
      "Index(['arma', 'departamento', 'municipio', 'fecha', 'genero', 'grupo_etario',\n",
      "       'codigo_dane', 'cantidad', 'delito'],\n",
      "      dtype='object')\n",
      "Index(['arma', 'departamento', 'municipio', 'fecha', 'genero', 'grupo_etario',\n",
      "       'codigo_dane', 'cantidad', 'delito'],\n",
      "      dtype='object')\n",
      "Index(['arma', 'departamento', 'municipio', 'fecha', 'genero', 'grupo_etario',\n",
      "       'codigo_dane', 'cantidad', 'delito'],\n",
      "      dtype='object')\n",
      "Index(['arma', 'departamento', 'municipio', 'fecha', 'genero', 'grupo_etario',\n",
      "       'codigo_dane', 'cantidad', 'delito'],\n",
      "      dtype='object')\n",
      "Index(['arma', 'departamento', 'municipio', 'fecha', 'genero', 'grupo_etario',\n",
      "       'codigo_dane', 'cantidad', 'delito'],\n",
      "      dtype='object')\n",
      "Index(['arma', 'departamento', 'municipio', 'fecha', 'genero', 'grupo_etario',\n",
      "       'codigo_dane', 'cantidad', 'delito'],\n",
      "      dtype='object')\n",
      "Index(['arma', 'departamento', 'municipio', 'fecha', 'genero', 'grupo_etario',\n",
      "       'codigo_dane', 'cantidad', 'delito'],\n",
      "      dtype='object')\n"
     ]
    }
   ],
   "source": [
    "# Checking that all columns names are the same\n",
    "for dataframe in df_list:\n",
    "    print(dataframe.columns)"
   ]
  },
  {
   "cell_type": "code",
   "execution_count": 75,
   "metadata": {},
   "outputs": [
    {
     "data": {
      "text/plain": [
       "(314429, 9)"
      ]
     },
     "execution_count": 75,
     "metadata": {},
     "output_type": "execute_result"
    }
   ],
   "source": [
    "# Join all the dataframes into one\n",
    "df = pd.concat(dataframe for dataframe in df_list)\n",
    "df.shape"
   ]
  },
  {
   "cell_type": "code",
   "execution_count": 78,
   "metadata": {},
   "outputs": [
    {
     "data": {
      "text/plain": [
       "arma            0\n",
       "departamento    0\n",
       "municipio       0\n",
       "fecha           0\n",
       "genero          0\n",
       "grupo_etario    0\n",
       "codigo_dane     0\n",
       "cantidad        0\n",
       "delito          0\n",
       "dtype: int64"
      ]
     },
     "execution_count": 78,
     "metadata": {},
     "output_type": "execute_result"
    }
   ],
   "source": [
    "df.isnull().sum()"
   ]
  },
  {
   "cell_type": "code",
   "execution_count": 80,
   "metadata": {},
   "outputs": [],
   "source": [
    "# Export the new dataframe clear\n",
    "df.to_csv(\"../Data/Processed/crimes_clear.csv\", index=False)"
   ]
  }
 ],
 "metadata": {
  "kernelspec": {
   "display_name": "base",
   "language": "python",
   "name": "python3"
  },
  "language_info": {
   "codemirror_mode": {
    "name": "ipython",
    "version": 3
   },
   "file_extension": ".py",
   "mimetype": "text/x-python",
   "name": "python",
   "nbconvert_exporter": "python",
   "pygments_lexer": "ipython3",
   "version": "3.9.13"
  },
  "orig_nbformat": 4
 },
 "nbformat": 4,
 "nbformat_minor": 2
}
