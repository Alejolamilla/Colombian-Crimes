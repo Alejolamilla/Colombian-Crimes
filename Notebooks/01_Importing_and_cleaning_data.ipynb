{
 "cells": [
  {
   "cell_type": "code",
   "execution_count": 166,
   "metadata": {},
   "outputs": [
    {
     "name": "stdout",
     "output_type": "stream",
     "text": [
      "The autoreload extension is already loaded. To reload it, use:\n",
      "  %reload_ext autoreload\n"
     ]
    }
   ],
   "source": [
    "%load_ext autoreload\n",
    "%autoreload 2\n",
    "\n",
    "import toolbox\n",
    "import pandas as pd"
   ]
  },
  {
   "cell_type": "markdown",
   "metadata": {},
   "source": [
    "# Importing the Data"
   ]
  },
  {
   "cell_type": "code",
   "execution_count": 167,
   "metadata": {},
   "outputs": [],
   "source": [
    "# Where the raw data is hosted\n",
    "raw_data = \"../Data/Raw/\""
   ]
  },
  {
   "cell_type": "code",
   "execution_count": 168,
   "metadata": {},
   "outputs": [],
   "source": [
    "# Convert the excel files into pd objects and load them on a dictionary\n",
    "dataframes = toolbox.load_xlsx_dataframes(raw_data, avoid=[\".gitkeep\"], skip_rows=9, skip_footer=6)"
   ]
  },
  {
   "cell_type": "markdown",
   "metadata": {},
   "source": [
    "# Cleaning the Data"
   ]
  },
  {
   "cell_type": "code",
   "execution_count": 169,
   "metadata": {},
   "outputs": [
    {
     "data": {
      "text/plain": [
       "ARMA MEDIO               46250\n",
       "DEPARTAMENTO             14726\n",
       "MUNICIPIO                    0\n",
       "FECHA HECHO              46250\n",
       "CODIGO DANE              46250\n",
       "CANTIDAD                     0\n",
       "DELITO                       0\n",
       "GENERO                   46498\n",
       "*AGRUPA_EDAD_PERSONA     35019\n",
       "ARMAS_MEDIOS            268179\n",
       "FECHA                   268179\n",
       "CODIGO_DANE             268179\n",
       "DELITOS                 301576\n",
       "GENERO                  302950\n",
       "DEPARTAMENTO            299703\n",
       "dtype: int64"
      ]
     },
     "execution_count": 169,
     "metadata": {},
     "output_type": "execute_result"
    }
   ],
   "source": [
    "# Join all the dataframes into one\n",
    "df = pd.concat(dataframe for dataframe in dataframes)\n",
    "df.shape\n",
    "\n",
    "df.isna().sum()"
   ]
  },
  {
   "cell_type": "code",
   "execution_count": 170,
   "metadata": {},
   "outputs": [
    {
     "name": "stdout",
     "output_type": "stream",
     "text": [
      "7\n",
      "9\n",
      "9\n",
      "9\n",
      "9\n",
      "9\n",
      "7\n",
      "9\n",
      "7\n",
      "7\n",
      "9\n",
      "10\n",
      "9\n",
      "9\n",
      "9\n",
      "9\n",
      "7\n",
      "9\n",
      "7\n",
      "9\n"
     ]
    }
   ],
   "source": [
    "# How many columns has each df?\n",
    "for dataframe in dataframes:\n",
    "    print(len(list(dataframe.columns)))"
   ]
  },
  {
   "cell_type": "code",
   "execution_count": 171,
   "metadata": {},
   "outputs": [
    {
     "name": "stdout",
     "output_type": "stream",
     "text": [
      "7\n",
      "9\n",
      "9\n",
      "9\n",
      "9\n",
      "9\n",
      "7\n",
      "9\n",
      "7\n",
      "7\n",
      "9\n",
      "9\n",
      "9\n",
      "9\n",
      "9\n",
      "9\n",
      "7\n",
      "9\n",
      "7\n",
      "9\n"
     ]
    }
   ],
   "source": [
    "# Removing the column \"DELITOS\" since it only for this dataframe and will not aport any further information to the general data\n",
    "dataframes[11] = dataframes[11].drop(\"DELITOS\", axis=1)\n",
    "for dataframe in dataframes:\n",
    "    print(len(list(dataframe.columns)))"
   ]
  },
  {
   "cell_type": "code",
   "execution_count": 172,
   "metadata": {},
   "outputs": [
    {
     "name": "stdout",
     "output_type": "stream",
     "text": [
      "CODIGO DANE \n",
      "GENERO \n",
      "GENERO \n",
      "CODIGO DANE \n",
      "GENERO \n",
      "GENERO \n",
      "CODIGO DANE \n",
      "GENERO \n",
      "CODIGO_DANE\n",
      "CODIGO_DANE\n",
      "GENERO \n",
      "GENERO \n",
      "GENERO \n",
      "GENERO \n",
      "GENERO \n",
      "GENERO\n",
      "CODIGO_DANE\n",
      "GENERO \n",
      "CODIGO DANE \n",
      "GENERO \n"
     ]
    }
   ],
   "source": [
    "for dataframe in dataframes:\n",
    "    print(dataframe.columns[4])"
   ]
  },
  {
   "cell_type": "markdown",
   "metadata": {},
   "source": [
    "I will add the genre column to the dataframes that doesnt have it to be consistent when the dataframs are joint."
   ]
  },
  {
   "cell_type": "code",
   "execution_count": 173,
   "metadata": {},
   "outputs": [
    {
     "data": {
      "text/plain": [
       "[None, None, None, None, None, None]"
      ]
     },
     "execution_count": 173,
     "metadata": {},
     "output_type": "execute_result"
    }
   ],
   "source": [
    "# List of dataframes\n",
    "dataframes_list = list(dataframes)\n",
    "\n",
    "# List of dataframes that doesnt have the column \"GENERO\"\n",
    "non_genre_cols = [0,6,8,9,16,18]\n",
    "\n",
    "# Add the column \"genre\"\n",
    "[dataframes_list[col].insert(4, \"genero\", \"desconocido\") for col in non_genre_cols]\n",
    "\n",
    "# Adding the column \"age_group\" to the columns that doesnt have it by default\n",
    "[dataframes_list[col].insert(5, \"age_group\", \"desconocido\") for col in non_genre_cols]"
   ]
  },
  {
   "cell_type": "code",
   "execution_count": 174,
   "metadata": {},
   "outputs": [
    {
     "name": "stdout",
     "output_type": "stream",
     "text": [
      "9\n",
      "9\n",
      "9\n",
      "9\n",
      "9\n",
      "9\n",
      "9\n",
      "9\n",
      "9\n",
      "9\n",
      "9\n",
      "9\n",
      "9\n",
      "9\n",
      "9\n",
      "9\n",
      "9\n",
      "9\n",
      "9\n",
      "9\n"
     ]
    }
   ],
   "source": [
    "# checking if now all dataframes have the same amount of columns\n",
    "for dataframe in dataframes:\n",
    "    print(len(list(dataframe.columns)))"
   ]
  },
  {
   "cell_type": "code",
   "execution_count": 175,
   "metadata": {},
   "outputs": [],
   "source": [
    "# Change column positions of the dataframe 3 since it has a different order\n",
    "dataframes[3] = toolbox.move_column(dataframes[3], \"GENERO \", 4)\n",
    "dataframes[3] = toolbox.move_column(dataframes[3], \"*AGRUPA_EDAD_PERSONA\", 5)"
   ]
  },
  {
   "cell_type": "code",
   "execution_count": 176,
   "metadata": {},
   "outputs": [],
   "source": [
    "# Some columns of some dataframes arent properly named, fixing that \n",
    "dataframes[1] = dataframes[1].rename(columns={'GENERO': 'codigo_dane'})\n",
    "dataframes[1] = dataframes[1].rename(columns={'CODIGO DANE\t': 'genero'})\n",
    "\n",
    "dataframes[13] = dataframes[13].rename(columns={'GENERO': 'codigo_dane'})\n",
    "dataframes[13] = dataframes[13].rename(columns={'CODIGO DANE\t': 'genero'})"
   ]
  },
  {
   "cell_type": "code",
   "execution_count": 177,
   "metadata": {},
   "outputs": [
    {
     "name": "stdout",
     "output_type": "stream",
     "text": [
      "Index(['ARMA MEDIO ', 'DEPARTAMENTO ', 'MUNICIPIO ', 'FECHA HECHO ', 'GENERO ',\n",
      "       '*AGRUPA_EDAD_PERSONA', 'CODIGO DANE ', 'CANTIDAD ', 'DELITO'],\n",
      "      dtype='object')\n",
      "Index(['ARMA MEDIO ', 'DEPARTAMENTO ', 'MUNICIPIO ', 'FECHA HECHO ', 'GENERO ',\n",
      "       '*AGRUPA_EDAD_PERSONA', 'CODIGO DANE ', 'CANTIDAD ', 'DELITO'],\n",
      "      dtype='object')\n",
      "Index(['ARMAS_MEDIOS', 'DEPARTAMENTO ', 'MUNICIPIO ', 'FECHA ', 'GENERO',\n",
      "       '*AGRUPA_EDAD_PERSONA', 'CODIGO_DANE', 'CANTIDAD ', 'DELITO'],\n",
      "      dtype='object')\n",
      "Index(['ARMAS_MEDIOS', 'DEPARTAMENTO', 'MUNICIPIO ', 'FECHA ', 'genero',\n",
      "       'age_group', 'CODIGO_DANE', 'CANTIDAD ', 'DELITO'],\n",
      "      dtype='object')\n",
      "Index(['ARMA MEDIO ', 'DEPARTAMENTO ', 'MUNICIPIO ', 'FECHA HECHO ', 'GENERO ',\n",
      "       '*AGRUPA_EDAD_PERSONA', 'CODIGO DANE ', 'CANTIDAD ', 'DELITO'],\n",
      "      dtype='object')\n",
      "Index(['ARMA MEDIO ', 'DEPARTAMENTO ', 'MUNICIPIO ', 'FECHA HECHO ', 'genero',\n",
      "       'age_group', 'CODIGO DANE ', 'CANTIDAD ', 'DELITO'],\n",
      "      dtype='object')\n"
     ]
    }
   ],
   "source": [
    "for i in range(13, 19):\n",
    "    print(dataframes[i].columns)"
   ]
  },
  {
   "cell_type": "code",
   "execution_count": 178,
   "metadata": {},
   "outputs": [
    {
     "name": "stdout",
     "output_type": "stream",
     "text": [
      "Index(['ARMA MEDIO ', 'DEPARTAMENTO ', 'MUNICIPIO ', 'FECHA HECHO ', 'genero',\n",
      "       'age_group', 'CODIGO DANE ', 'CANTIDAD ', 'DELITO'],\n",
      "      dtype='object')\n",
      "Index(['ARMA MEDIO ', 'DEPARTAMENTO ', 'MUNICIPIO ', 'FECHA HECHO ', 'GENERO ',\n",
      "       '*AGRUPA_EDAD_PERSONA', 'CODIGO DANE ', 'CANTIDAD ', 'DELITO'],\n",
      "      dtype='object')\n",
      "Index(['ARMA MEDIO ', 'DEPARTAMENTO ', 'MUNICIPIO ', 'FECHA HECHO ', 'GENERO ',\n",
      "       '*AGRUPA_EDAD_PERSONA', 'CODIGO DANE ', 'CANTIDAD ', 'DELITO'],\n",
      "      dtype='object')\n",
      "Index(['ARMA MEDIO ', 'DEPARTAMENTO ', 'MUNICIPIO ', 'FECHA HECHO ', 'GENERO ',\n",
      "       '*AGRUPA_EDAD_PERSONA', 'CODIGO DANE ', 'CANTIDAD ', 'DELITO'],\n",
      "      dtype='object')\n",
      "Index(['ARMA MEDIO ', 'DEPARTAMENTO ', 'MUNICIPIO ', 'FECHA HECHO ', 'GENERO ',\n",
      "       '*AGRUPA_EDAD_PERSONA', 'CODIGO DANE ', 'CANTIDAD ', 'DELITO'],\n",
      "      dtype='object')\n",
      "Index(['ARMA MEDIO ', 'DEPARTAMENTO ', 'MUNICIPIO ', 'FECHA HECHO ', 'GENERO ',\n",
      "       '*AGRUPA_EDAD_PERSONA', 'CODIGO DANE ', 'CANTIDAD ', 'DELITO'],\n",
      "      dtype='object')\n",
      "Index(['ARMA MEDIO ', 'DEPARTAMENTO ', 'MUNICIPIO ', 'FECHA HECHO ', 'genero',\n",
      "       'age_group', 'CODIGO DANE ', 'CANTIDAD ', 'DELITO'],\n",
      "      dtype='object')\n",
      "Index(['ARMA MEDIO ', 'DEPARTAMENTO ', 'MUNICIPIO ', 'FECHA HECHO ', 'GENERO ',\n",
      "       '*AGRUPA_EDAD_PERSONA', 'CODIGO DANE ', 'CANTIDAD ', 'DELITO'],\n",
      "      dtype='object')\n",
      "Index(['ARMAS_MEDIOS', 'DEPARTAMENTO ', 'MUNICIPIO ', 'FECHA ', 'genero',\n",
      "       'age_group', 'CODIGO_DANE', 'CANTIDAD ', 'DELITO'],\n",
      "      dtype='object')\n",
      "Index(['ARMAS_MEDIOS', 'DEPARTAMENTO ', 'MUNICIPIO ', 'FECHA ', 'genero',\n",
      "       'age_group', 'CODIGO_DANE', 'CANTIDAD ', 'DELITO'],\n",
      "      dtype='object')\n",
      "Index(['ARMA MEDIO ', 'DEPARTAMENTO ', 'MUNICIPIO ', 'FECHA HECHO ', 'GENERO ',\n",
      "       '*AGRUPA_EDAD_PERSONA', 'CODIGO DANE ', 'CANTIDAD ', 'DELITO'],\n",
      "      dtype='object')\n",
      "Index(['ARMA MEDIO ', 'DEPARTAMENTO ', 'MUNICIPIO ', 'FECHA HECHO ', 'GENERO ',\n",
      "       '*AGRUPA_EDAD_PERSONA', 'CODIGO DANE ', 'CANTIDAD ', 'DELITO'],\n",
      "      dtype='object')\n",
      "Index(['ARMA MEDIO ', 'DEPARTAMENTO ', 'MUNICIPIO ', 'FECHA HECHO ', 'GENERO ',\n",
      "       '*AGRUPA_EDAD_PERSONA', 'CODIGO DANE ', 'CANTIDAD ', 'DELITO'],\n",
      "      dtype='object')\n",
      "Index(['ARMA MEDIO ', 'DEPARTAMENTO ', 'MUNICIPIO ', 'FECHA HECHO ', 'GENERO ',\n",
      "       '*AGRUPA_EDAD_PERSONA', 'CODIGO DANE ', 'CANTIDAD ', 'DELITO'],\n",
      "      dtype='object')\n",
      "Index(['ARMA MEDIO ', 'DEPARTAMENTO ', 'MUNICIPIO ', 'FECHA HECHO ', 'GENERO ',\n",
      "       '*AGRUPA_EDAD_PERSONA', 'CODIGO DANE ', 'CANTIDAD ', 'DELITO'],\n",
      "      dtype='object')\n",
      "Index(['ARMAS_MEDIOS', 'DEPARTAMENTO ', 'MUNICIPIO ', 'FECHA ', 'GENERO',\n",
      "       '*AGRUPA_EDAD_PERSONA', 'CODIGO_DANE', 'CANTIDAD ', 'DELITO'],\n",
      "      dtype='object')\n",
      "Index(['ARMAS_MEDIOS', 'DEPARTAMENTO', 'MUNICIPIO ', 'FECHA ', 'genero',\n",
      "       'age_group', 'CODIGO_DANE', 'CANTIDAD ', 'DELITO'],\n",
      "      dtype='object')\n",
      "Index(['ARMA MEDIO ', 'DEPARTAMENTO ', 'MUNICIPIO ', 'FECHA HECHO ', 'GENERO ',\n",
      "       '*AGRUPA_EDAD_PERSONA', 'CODIGO DANE ', 'CANTIDAD ', 'DELITO'],\n",
      "      dtype='object')\n",
      "Index(['ARMA MEDIO ', 'DEPARTAMENTO ', 'MUNICIPIO ', 'FECHA HECHO ', 'genero',\n",
      "       'age_group', 'CODIGO DANE ', 'CANTIDAD ', 'DELITO'],\n",
      "      dtype='object')\n",
      "Index(['ARMA MEDIO ', 'DEPARTAMENTO ', 'MUNICIPIO ', 'FECHA HECHO ', 'GENERO ',\n",
      "       '*AGRUPA_EDAD_PERSONA', 'CODIGO DANE ', 'CANTIDAD ', 'DELITO'],\n",
      "      dtype='object')\n"
     ]
    }
   ],
   "source": [
    "# Checking that all columns has the same order\n",
    "for dataframe in dataframes:\n",
    "    print(dataframe.columns)"
   ]
  },
  {
   "cell_type": "code",
   "execution_count": 179,
   "metadata": {},
   "outputs": [],
   "source": [
    "# The new name for the columns\n",
    "new_column_names = [\"arma\", \"departamento\", \"municipio\", \"fecha\", \"genero\", \"grupo_etario\", \"codigo_dane\", \"cantidad\", \"delito\"]\n",
    "\n",
    "#change the name of the columns\n",
    "for i in range(9):\n",
    "    dataframes = toolbox.update_columns_name(dataframes, i, new_column_names[i])"
   ]
  },
  {
   "cell_type": "code",
   "execution_count": 180,
   "metadata": {},
   "outputs": [
    {
     "name": "stdout",
     "output_type": "stream",
     "text": [
      "Index(['arma', 'departamento', 'municipio', 'fecha', 'genero', 'grupo_etario',\n",
      "       'codigo_dane', 'cantidad', 'delito'],\n",
      "      dtype='object')\n",
      "Index(['arma', 'departamento', 'municipio', 'fecha', 'genero', 'grupo_etario',\n",
      "       'codigo_dane', 'cantidad', 'delito'],\n",
      "      dtype='object')\n",
      "Index(['arma', 'departamento', 'municipio', 'fecha', 'genero', 'grupo_etario',\n",
      "       'codigo_dane', 'cantidad', 'delito'],\n",
      "      dtype='object')\n",
      "Index(['arma', 'departamento', 'municipio', 'fecha', 'genero', 'grupo_etario',\n",
      "       'codigo_dane', 'cantidad', 'delito'],\n",
      "      dtype='object')\n",
      "Index(['arma', 'departamento', 'municipio', 'fecha', 'genero', 'grupo_etario',\n",
      "       'codigo_dane', 'cantidad', 'delito'],\n",
      "      dtype='object')\n",
      "Index(['arma', 'departamento', 'municipio', 'fecha', 'genero', 'grupo_etario',\n",
      "       'codigo_dane', 'cantidad', 'delito'],\n",
      "      dtype='object')\n",
      "Index(['arma', 'departamento', 'municipio', 'fecha', 'genero', 'grupo_etario',\n",
      "       'codigo_dane', 'cantidad', 'delito'],\n",
      "      dtype='object')\n",
      "Index(['arma', 'departamento', 'municipio', 'fecha', 'genero', 'grupo_etario',\n",
      "       'codigo_dane', 'cantidad', 'delito'],\n",
      "      dtype='object')\n",
      "Index(['arma', 'departamento', 'municipio', 'fecha', 'genero', 'grupo_etario',\n",
      "       'codigo_dane', 'cantidad', 'delito'],\n",
      "      dtype='object')\n",
      "Index(['arma', 'departamento', 'municipio', 'fecha', 'genero', 'grupo_etario',\n",
      "       'codigo_dane', 'cantidad', 'delito'],\n",
      "      dtype='object')\n",
      "Index(['arma', 'departamento', 'municipio', 'fecha', 'genero', 'grupo_etario',\n",
      "       'codigo_dane', 'cantidad', 'delito'],\n",
      "      dtype='object')\n",
      "Index(['arma', 'departamento', 'municipio', 'fecha', 'genero', 'grupo_etario',\n",
      "       'codigo_dane', 'cantidad', 'delito'],\n",
      "      dtype='object')\n",
      "Index(['arma', 'departamento', 'municipio', 'fecha', 'genero', 'grupo_etario',\n",
      "       'codigo_dane', 'cantidad', 'delito'],\n",
      "      dtype='object')\n",
      "Index(['arma', 'departamento', 'municipio', 'fecha', 'genero', 'grupo_etario',\n",
      "       'codigo_dane', 'cantidad', 'delito'],\n",
      "      dtype='object')\n",
      "Index(['arma', 'departamento', 'municipio', 'fecha', 'genero', 'grupo_etario',\n",
      "       'codigo_dane', 'cantidad', 'delito'],\n",
      "      dtype='object')\n",
      "Index(['arma', 'departamento', 'municipio', 'fecha', 'genero', 'grupo_etario',\n",
      "       'codigo_dane', 'cantidad', 'delito'],\n",
      "      dtype='object')\n",
      "Index(['arma', 'departamento', 'municipio', 'fecha', 'genero', 'grupo_etario',\n",
      "       'codigo_dane', 'cantidad', 'delito'],\n",
      "      dtype='object')\n",
      "Index(['arma', 'departamento', 'municipio', 'fecha', 'genero', 'grupo_etario',\n",
      "       'codigo_dane', 'cantidad', 'delito'],\n",
      "      dtype='object')\n",
      "Index(['arma', 'departamento', 'municipio', 'fecha', 'genero', 'grupo_etario',\n",
      "       'codigo_dane', 'cantidad', 'delito'],\n",
      "      dtype='object')\n",
      "Index(['arma', 'departamento', 'municipio', 'fecha', 'genero', 'grupo_etario',\n",
      "       'codigo_dane', 'cantidad', 'delito'],\n",
      "      dtype='object')\n"
     ]
    }
   ],
   "source": [
    "# Checking that all columns names are the same\n",
    "for dataframe in dataframes:\n",
    "    print(dataframe.columns)"
   ]
  },
  {
   "cell_type": "code",
   "execution_count": 181,
   "metadata": {},
   "outputs": [
    {
     "data": {
      "text/plain": [
       "array([ 5001000, 11001000, 25438000, ..., 76036001, 76318009, 70429010])"
      ]
     },
     "execution_count": 181,
     "metadata": {},
     "output_type": "execute_result"
    }
   ],
   "source": [
    "dataframes[1][\"genero\"].unique()\n",
    "#dataframes[1].columns"
   ]
  },
  {
   "cell_type": "code",
   "execution_count": 182,
   "metadata": {},
   "outputs": [
    {
     "data": {
      "text/html": [
       "<div>\n",
       "<style scoped>\n",
       "    .dataframe tbody tr th:only-of-type {\n",
       "        vertical-align: middle;\n",
       "    }\n",
       "\n",
       "    .dataframe tbody tr th {\n",
       "        vertical-align: top;\n",
       "    }\n",
       "\n",
       "    .dataframe thead th {\n",
       "        text-align: right;\n",
       "    }\n",
       "</style>\n",
       "<table border=\"1\" class=\"dataframe\">\n",
       "  <thead>\n",
       "    <tr style=\"text-align: right;\">\n",
       "      <th></th>\n",
       "      <th>arma</th>\n",
       "      <th>departamento</th>\n",
       "      <th>municipio</th>\n",
       "      <th>fecha</th>\n",
       "      <th>genero</th>\n",
       "      <th>grupo_etario</th>\n",
       "      <th>codigo_dane</th>\n",
       "      <th>cantidad</th>\n",
       "      <th>delito</th>\n",
       "    </tr>\n",
       "  </thead>\n",
       "  <tbody>\n",
       "    <tr>\n",
       "      <th>0</th>\n",
       "      <td>ACIDO</td>\n",
       "      <td>ANTIOQUIA</td>\n",
       "      <td>Medellín (CT)</td>\n",
       "      <td>2023-06-29</td>\n",
       "      <td>5001000</td>\n",
       "      <td>ADULTOS</td>\n",
       "      <td>FEMENINO</td>\n",
       "      <td>1</td>\n",
       "      <td>lesiones_personales_8.xlsx</td>\n",
       "    </tr>\n",
       "    <tr>\n",
       "      <th>1</th>\n",
       "      <td>ACIDO</td>\n",
       "      <td>CUNDINAMARCA</td>\n",
       "      <td>Bogotá D.C. (CT)</td>\n",
       "      <td>2023-08-05</td>\n",
       "      <td>11001000</td>\n",
       "      <td>ADULTOS</td>\n",
       "      <td>MASCULINO</td>\n",
       "      <td>1</td>\n",
       "      <td>lesiones_personales_8.xlsx</td>\n",
       "    </tr>\n",
       "    <tr>\n",
       "      <th>2</th>\n",
       "      <td>ACIDO</td>\n",
       "      <td>CUNDINAMARCA</td>\n",
       "      <td>Medina</td>\n",
       "      <td>2023-02-05</td>\n",
       "      <td>25438000</td>\n",
       "      <td>ADULTOS</td>\n",
       "      <td>FEMENINO</td>\n",
       "      <td>2</td>\n",
       "      <td>lesiones_personales_8.xlsx</td>\n",
       "    </tr>\n",
       "    <tr>\n",
       "      <th>3</th>\n",
       "      <td>ACIDO</td>\n",
       "      <td>HUILA</td>\n",
       "      <td>Algeciras</td>\n",
       "      <td>2023-02-06</td>\n",
       "      <td>41020000</td>\n",
       "      <td>ADOLESCENTES</td>\n",
       "      <td>FEMENINO</td>\n",
       "      <td>1</td>\n",
       "      <td>lesiones_personales_8.xlsx</td>\n",
       "    </tr>\n",
       "    <tr>\n",
       "      <th>4</th>\n",
       "      <td>ACIDO</td>\n",
       "      <td>MAGDALENA</td>\n",
       "      <td>Santa Marta (CT)</td>\n",
       "      <td>2023-01-30</td>\n",
       "      <td>47001000</td>\n",
       "      <td>ADULTOS</td>\n",
       "      <td>FEMENINO</td>\n",
       "      <td>1</td>\n",
       "      <td>lesiones_personales_8.xlsx</td>\n",
       "    </tr>\n",
       "    <tr>\n",
       "      <th>...</th>\n",
       "      <td>...</td>\n",
       "      <td>...</td>\n",
       "      <td>...</td>\n",
       "      <td>...</td>\n",
       "      <td>...</td>\n",
       "      <td>...</td>\n",
       "      <td>...</td>\n",
       "      <td>...</td>\n",
       "      <td>...</td>\n",
       "    </tr>\n",
       "    <tr>\n",
       "      <th>38617</th>\n",
       "      <td>NO REPORTADO</td>\n",
       "      <td>CÓRDOBA</td>\n",
       "      <td>Montería (CT)</td>\n",
       "      <td>2023-04-13</td>\n",
       "      <td>23001000</td>\n",
       "      <td>ADULTOS</td>\n",
       "      <td>FEMENINO</td>\n",
       "      <td>1</td>\n",
       "      <td>lesiones_personales_8.xlsx</td>\n",
       "    </tr>\n",
       "    <tr>\n",
       "      <th>38618</th>\n",
       "      <td>NO REPORTADO</td>\n",
       "      <td>CÓRDOBA</td>\n",
       "      <td>Montería (CT)</td>\n",
       "      <td>2023-04-13</td>\n",
       "      <td>23001000</td>\n",
       "      <td>ADULTOS</td>\n",
       "      <td>MASCULINO</td>\n",
       "      <td>1</td>\n",
       "      <td>lesiones_personales_8.xlsx</td>\n",
       "    </tr>\n",
       "    <tr>\n",
       "      <th>38619</th>\n",
       "      <td>NO REPORTADO</td>\n",
       "      <td>HUILA</td>\n",
       "      <td>Neiva (CT)</td>\n",
       "      <td>2023-02-02</td>\n",
       "      <td>41001000</td>\n",
       "      <td>ADULTOS</td>\n",
       "      <td>MASCULINO</td>\n",
       "      <td>1</td>\n",
       "      <td>lesiones_personales_8.xlsx</td>\n",
       "    </tr>\n",
       "    <tr>\n",
       "      <th>38620</th>\n",
       "      <td>NO REPORTADO</td>\n",
       "      <td>HUILA</td>\n",
       "      <td>Neiva (CT)</td>\n",
       "      <td>2023-02-10</td>\n",
       "      <td>41001000</td>\n",
       "      <td>MENORES</td>\n",
       "      <td>FEMENINO</td>\n",
       "      <td>1</td>\n",
       "      <td>lesiones_personales_8.xlsx</td>\n",
       "    </tr>\n",
       "    <tr>\n",
       "      <th>38621</th>\n",
       "      <td>NO REPORTADO</td>\n",
       "      <td>HUILA</td>\n",
       "      <td>Neiva (CT)</td>\n",
       "      <td>2023-06-07</td>\n",
       "      <td>41001000</td>\n",
       "      <td>ADULTOS</td>\n",
       "      <td>FEMENINO</td>\n",
       "      <td>1</td>\n",
       "      <td>lesiones_personales_8.xlsx</td>\n",
       "    </tr>\n",
       "  </tbody>\n",
       "</table>\n",
       "<p>38622 rows × 9 columns</p>\n",
       "</div>"
      ],
      "text/plain": [
       "               arma  departamento         municipio      fecha    genero  \\\n",
       "0             ACIDO     ANTIOQUIA     Medellín (CT) 2023-06-29   5001000   \n",
       "1             ACIDO  CUNDINAMARCA  Bogotá D.C. (CT) 2023-08-05  11001000   \n",
       "2             ACIDO  CUNDINAMARCA            Medina 2023-02-05  25438000   \n",
       "3             ACIDO         HUILA         Algeciras 2023-02-06  41020000   \n",
       "4             ACIDO     MAGDALENA  Santa Marta (CT) 2023-01-30  47001000   \n",
       "...             ...           ...               ...        ...       ...   \n",
       "38617  NO REPORTADO       CÓRDOBA     Montería (CT) 2023-04-13  23001000   \n",
       "38618  NO REPORTADO       CÓRDOBA     Montería (CT) 2023-04-13  23001000   \n",
       "38619  NO REPORTADO         HUILA        Neiva (CT) 2023-02-02  41001000   \n",
       "38620  NO REPORTADO         HUILA        Neiva (CT) 2023-02-10  41001000   \n",
       "38621  NO REPORTADO         HUILA        Neiva (CT) 2023-06-07  41001000   \n",
       "\n",
       "       grupo_etario codigo_dane  cantidad                      delito  \n",
       "0           ADULTOS    FEMENINO         1  lesiones_personales_8.xlsx  \n",
       "1           ADULTOS   MASCULINO         1  lesiones_personales_8.xlsx  \n",
       "2           ADULTOS    FEMENINO         2  lesiones_personales_8.xlsx  \n",
       "3      ADOLESCENTES    FEMENINO         1  lesiones_personales_8.xlsx  \n",
       "4           ADULTOS    FEMENINO         1  lesiones_personales_8.xlsx  \n",
       "...             ...         ...       ...                         ...  \n",
       "38617       ADULTOS    FEMENINO         1  lesiones_personales_8.xlsx  \n",
       "38618       ADULTOS   MASCULINO         1  lesiones_personales_8.xlsx  \n",
       "38619       ADULTOS   MASCULINO         1  lesiones_personales_8.xlsx  \n",
       "38620       MENORES    FEMENINO         1  lesiones_personales_8.xlsx  \n",
       "38621       ADULTOS    FEMENINO         1  lesiones_personales_8.xlsx  \n",
       "\n",
       "[38622 rows x 9 columns]"
      ]
     },
     "execution_count": 182,
     "metadata": {},
     "output_type": "execute_result"
    }
   ],
   "source": [
    "dataframes[1]\n"
   ]
  },
  {
   "cell_type": "code",
   "execution_count": 183,
   "metadata": {},
   "outputs": [
    {
     "data": {
      "text/plain": [
       "(314429, 9)"
      ]
     },
     "execution_count": 183,
     "metadata": {},
     "output_type": "execute_result"
    }
   ],
   "source": [
    "# Join all the dataframes into one\n",
    "df = pd.concat(dataframe for dataframe in dataframes)\n",
    "df.shape"
   ]
  },
  {
   "cell_type": "code",
   "execution_count": 184,
   "metadata": {},
   "outputs": [
    {
     "data": {
      "text/plain": [
       "arma            0\n",
       "departamento    0\n",
       "municipio       0\n",
       "fecha           0\n",
       "genero          0\n",
       "grupo_etario    0\n",
       "codigo_dane     0\n",
       "cantidad        0\n",
       "delito          0\n",
       "dtype: int64"
      ]
     },
     "execution_count": 184,
     "metadata": {},
     "output_type": "execute_result"
    }
   ],
   "source": [
    "df.isnull().sum()"
   ]
  },
  {
   "cell_type": "code",
   "execution_count": 185,
   "metadata": {},
   "outputs": [],
   "source": [
    "# Export the new dataframe clear\n",
    "df.to_csv(\"../Data/Processed/crimes_clear.csv\", index=False)"
   ]
  }
 ],
 "metadata": {
  "kernelspec": {
   "display_name": "base",
   "language": "python",
   "name": "python3"
  },
  "language_info": {
   "codemirror_mode": {
    "name": "ipython",
    "version": 3
   },
   "file_extension": ".py",
   "mimetype": "text/x-python",
   "name": "python",
   "nbconvert_exporter": "python",
   "pygments_lexer": "ipython3",
   "version": "3.9.13"
  },
  "orig_nbformat": 4
 },
 "nbformat": 4,
 "nbformat_minor": 2
}
