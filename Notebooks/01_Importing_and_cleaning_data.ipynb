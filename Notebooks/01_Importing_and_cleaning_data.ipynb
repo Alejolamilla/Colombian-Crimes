{
 "cells": [
  {
   "cell_type": "code",
   "execution_count": 44,
   "metadata": {},
   "outputs": [
    {
     "name": "stdout",
     "output_type": "stream",
     "text": [
      "The autoreload extension is already loaded. To reload it, use:\n",
      "  %reload_ext autoreload\n"
     ]
    }
   ],
   "source": [
    "%load_ext autoreload\n",
    "%autoreload 2\n",
    "\n",
    "import toolbox\n",
    "import pandas as pd"
   ]
  },
  {
   "cell_type": "markdown",
   "metadata": {},
   "source": [
    "# Importing the Data"
   ]
  },
  {
   "cell_type": "code",
   "execution_count": 27,
   "metadata": {},
   "outputs": [],
   "source": [
    "# Where the raw data is hosted\n",
    "raw_data = \"../Data/Raw/\""
   ]
  },
  {
   "cell_type": "code",
   "execution_count": 28,
   "metadata": {},
   "outputs": [],
   "source": [
    "# Convert the excel files into pd objects and load them on a dictionary\n",
    "dataframes = toolbox.load_xlsx_dataframes(raw_data, avoid=[\".gitkeep\"], skip_rows=9, skip_footer=6)"
   ]
  },
  {
   "cell_type": "markdown",
   "metadata": {},
   "source": [
    "# Cleaning the Data"
   ]
  },
  {
   "cell_type": "code",
   "execution_count": 29,
   "metadata": {},
   "outputs": [
    {
     "data": {
      "text/plain": [
       "ARMA MEDIO               46250\n",
       "DEPARTAMENTO             14726\n",
       "MUNICIPIO                    0\n",
       "FECHA HECHO              46250\n",
       "GENERO                   46498\n",
       "*AGRUPA_EDAD_PERSONA     35019\n",
       "CODIGO DANE              46250\n",
       "CANTIDAD                     0\n",
       "DELITO                       0\n",
       "ARMAS_MEDIOS            268179\n",
       "FECHA                   268179\n",
       "GENERO                  302950\n",
       "CODIGO_DANE             268179\n",
       "DEPARTAMENTO            299703\n",
       "DELITOS                 301576\n",
       "dtype: int64"
      ]
     },
     "execution_count": 29,
     "metadata": {},
     "output_type": "execute_result"
    }
   ],
   "source": [
    "# Join all the dataframes into one\n",
    "df = pd.concat(dataframe for dataframe in dataframes.values())\n",
    "df.shape\n",
    "\n",
    "df.isna().sum()"
   ]
  },
  {
   "cell_type": "code",
   "execution_count": 30,
   "metadata": {},
   "outputs": [
    {
     "name": "stdout",
     "output_type": "stream",
     "text": [
      "ARMA MEDIO \n",
      "ARMA MEDIO \n",
      "ARMA MEDIO \n",
      "ARMA MEDIO \n",
      "ARMA MEDIO \n",
      "ARMA MEDIO \n",
      "ARMAS_MEDIOS\n",
      "ARMA MEDIO \n",
      "ARMA MEDIO \n",
      "ARMA MEDIO \n",
      "ARMA MEDIO \n",
      "ARMAS_MEDIOS\n",
      "ARMA MEDIO \n",
      "ARMA MEDIO \n",
      "ARMAS_MEDIOS\n",
      "ARMA MEDIO \n",
      "ARMA MEDIO \n",
      "ARMA MEDIO \n",
      "ARMAS_MEDIOS\n",
      "ARMA MEDIO \n"
     ]
    }
   ],
   "source": [
    "for dataframe in dataframes.values():\n",
    "    print(dataframe.columns[0])"
   ]
  },
  {
   "cell_type": "code",
   "execution_count": 34,
   "metadata": {},
   "outputs": [
    {
     "name": "stdout",
     "output_type": "stream",
     "text": [
      "Index(['ARMA MEDIO ', 'DEPARTAMENTO ', 'MUNICIPIO ', 'FECHA HECHO ', 'GENERO ',\n",
      "       '*AGRUPA_EDAD_PERSONA', 'CODIGO DANE ', 'CANTIDAD ', 'DELITO'],\n",
      "      dtype='object')\n",
      "Index(['ARMA MEDIO ', 'DEPARTAMENTO ', 'MUNICIPIO ', 'FECHA HECHO ',\n",
      "       'CODIGO DANE ', 'CANTIDAD ', 'DELITO'],\n",
      "      dtype='object')\n",
      "Index(['ARMA MEDIO ', 'DEPARTAMENTO ', 'MUNICIPIO ', 'FECHA HECHO ', 'GENERO ',\n",
      "       '*AGRUPA_EDAD_PERSONA', 'CODIGO DANE ', 'CANTIDAD ', 'DELITO'],\n",
      "      dtype='object')\n",
      "Index(['ARMA MEDIO ', 'DEPARTAMENTO ', 'MUNICIPIO ', 'FECHA HECHO ', 'GENERO ',\n",
      "       '*AGRUPA_EDAD_PERSONA', 'CODIGO DANE ', 'CANTIDAD ', 'DELITO'],\n",
      "      dtype='object')\n",
      "Index(['ARMA MEDIO ', 'DEPARTAMENTO ', 'MUNICIPIO ', 'FECHA HECHO ', 'GENERO ',\n",
      "       '*AGRUPA_EDAD_PERSONA', 'CODIGO DANE ', 'CANTIDAD ', 'DELITO'],\n",
      "      dtype='object')\n",
      "Index(['ARMA MEDIO ', 'DEPARTAMENTO ', 'MUNICIPIO ', 'FECHA HECHO ',\n",
      "       'CODIGO DANE ', 'CANTIDAD ', 'DELITO'],\n",
      "      dtype='object')\n",
      "Index(['ARMAS_MEDIOS', 'DEPARTAMENTO ', 'MUNICIPIO ', 'FECHA ', 'GENERO',\n",
      "       '*AGRUPA_EDAD_PERSONA', 'CODIGO_DANE', 'CANTIDAD ', 'DELITO'],\n",
      "      dtype='object')\n",
      "Index(['ARMA MEDIO ', 'DEPARTAMENTO ', 'MUNICIPIO ', 'FECHA HECHO ', 'GENERO ',\n",
      "       '*AGRUPA_EDAD_PERSONA', 'CODIGO DANE ', 'CANTIDAD ', 'DELITO'],\n",
      "      dtype='object')\n",
      "Index(['ARMA MEDIO ', 'DEPARTAMENTO ', 'MUNICIPIO ', 'FECHA HECHO ',\n",
      "       'CODIGO DANE ', 'CANTIDAD ', 'DELITO'],\n",
      "      dtype='object')\n",
      "Index(['ARMA MEDIO ', 'DEPARTAMENTO ', 'MUNICIPIO ', 'FECHA HECHO ', 'GENERO ',\n",
      "       '*AGRUPA_EDAD_PERSONA', 'CODIGO DANE ', 'CANTIDAD ', 'DELITO'],\n",
      "      dtype='object')\n",
      "Index(['ARMA MEDIO ', 'DEPARTAMENTO ', 'MUNICIPIO ', 'FECHA HECHO ', 'GENERO ',\n",
      "       '*AGRUPA_EDAD_PERSONA', 'CODIGO DANE ', 'CANTIDAD ', 'DELITO'],\n",
      "      dtype='object')\n",
      "Index(['ARMAS_MEDIOS', 'DEPARTAMENTO', 'MUNICIPIO ', 'FECHA ', 'CODIGO_DANE',\n",
      "       'CANTIDAD ', 'DELITO'],\n",
      "      dtype='object')\n",
      "Index(['ARMA MEDIO ', 'DEPARTAMENTO ', 'MUNICIPIO ', 'FECHA HECHO ', 'GENERO ',\n",
      "       '*AGRUPA_EDAD_PERSONA', 'CODIGO DANE ', 'CANTIDAD ', 'DELITO'],\n",
      "      dtype='object')\n",
      "Index(['ARMA MEDIO ', 'DEPARTAMENTO ', 'MUNICIPIO ', 'FECHA HECHO ', 'GENERO ',\n",
      "       '*AGRUPA_EDAD_PERSONA', 'CODIGO DANE ', 'DELITOS', 'CANTIDAD ',\n",
      "       'DELITO'],\n",
      "      dtype='object')\n",
      "Index(['ARMAS_MEDIOS', 'DEPARTAMENTO ', 'MUNICIPIO ', 'FECHA ', 'CODIGO_DANE',\n",
      "       'CANTIDAD ', 'DELITO'],\n",
      "      dtype='object')\n",
      "Index(['ARMA MEDIO ', 'DEPARTAMENTO ', 'MUNICIPIO ', 'FECHA HECHO ', 'GENERO ',\n",
      "       '*AGRUPA_EDAD_PERSONA', 'CODIGO DANE ', 'CANTIDAD ', 'DELITO'],\n",
      "      dtype='object')\n",
      "Index(['ARMA MEDIO ', 'DEPARTAMENTO ', 'MUNICIPIO ', 'FECHA HECHO ',\n",
      "       'CODIGO DANE ', '*AGRUPA_EDAD_PERSONA', 'GENERO ', 'CANTIDAD ',\n",
      "       'DELITO'],\n",
      "      dtype='object')\n",
      "Index(['ARMA MEDIO ', 'DEPARTAMENTO ', 'MUNICIPIO ', 'FECHA HECHO ', 'GENERO ',\n",
      "       '*AGRUPA_EDAD_PERSONA', 'CODIGO DANE ', 'CANTIDAD ', 'DELITO'],\n",
      "      dtype='object')\n",
      "Index(['ARMAS_MEDIOS', 'DEPARTAMENTO ', 'MUNICIPIO ', 'FECHA ', 'CODIGO_DANE',\n",
      "       'CANTIDAD ', 'DELITO'],\n",
      "      dtype='object')\n",
      "Index(['ARMA MEDIO ', 'DEPARTAMENTO ', 'MUNICIPIO ', 'FECHA HECHO ', 'GENERO ',\n",
      "       '*AGRUPA_EDAD_PERSONA', 'CODIGO DANE ', 'CANTIDAD ', 'DELITO'],\n",
      "      dtype='object')\n"
     ]
    }
   ],
   "source": [
    "for dataframe in dataframes.values():\n",
    "    print(dataframe.columns)"
   ]
  },
  {
   "cell_type": "code",
   "execution_count": 46,
   "metadata": {},
   "outputs": [
    {
     "name": "stdout",
     "output_type": "stream",
     "text": [
      "arma\n",
      "arma\n",
      "arma\n",
      "arma\n",
      "arma\n",
      "arma\n",
      "arma\n",
      "arma\n",
      "arma\n",
      "arma\n",
      "arma\n",
      "arma\n",
      "arma\n",
      "arma\n",
      "arma\n",
      "arma\n",
      "arma\n",
      "arma\n",
      "arma\n",
      "arma\n"
     ]
    }
   ],
   "source": [
    "dataframes_list = list(dataframes.values())\n",
    "df_list = toolbox.update_columns_name(dataframes_list, 0, \"arma\")\n",
    "\n",
    "for data in df_list:\n",
    "    print(data.columns[0])"
   ]
  },
  {
   "cell_type": "code",
   "execution_count": null,
   "metadata": {},
   "outputs": [
    {
     "name": "stdout",
     "output_type": "stream",
     "text": [
      "arma\n",
      "arma\n",
      "arma\n",
      "arma\n",
      "arma\n",
      "arma\n",
      "arma\n",
      "arma\n",
      "arma\n",
      "arma\n",
      "arma\n",
      "arma\n",
      "arma\n",
      "arma\n",
      "arma\n",
      "arma\n",
      "arma\n",
      "arma\n",
      "arma\n",
      "arma\n"
     ]
    }
   ],
   "source": [
    "for dataframe in dataframes.values():\n",
    "    dataframe = dataframe.rename(columns = {dataframe.columns[0] : \"arma\"}) \n",
    "    print(dataframe.columns[0])"
   ]
  },
  {
   "cell_type": "code",
   "execution_count": null,
   "metadata": {},
   "outputs": [
    {
     "data": {
      "text/html": [
       "<div>\n",
       "<style scoped>\n",
       "    .dataframe tbody tr th:only-of-type {\n",
       "        vertical-align: middle;\n",
       "    }\n",
       "\n",
       "    .dataframe tbody tr th {\n",
       "        vertical-align: top;\n",
       "    }\n",
       "\n",
       "    .dataframe thead th {\n",
       "        text-align: right;\n",
       "    }\n",
       "</style>\n",
       "<table border=\"1\" class=\"dataframe\">\n",
       "  <thead>\n",
       "    <tr style=\"text-align: right;\">\n",
       "      <th></th>\n",
       "      <th>ARMA MEDIO</th>\n",
       "      <th>DEPARTAMENTO</th>\n",
       "      <th>MUNICIPIO</th>\n",
       "      <th>FECHA HECHO</th>\n",
       "      <th>GENERO</th>\n",
       "      <th>*AGRUPA_EDAD_PERSONA</th>\n",
       "      <th>CODIGO DANE</th>\n",
       "      <th>DELITOS</th>\n",
       "      <th>CANTIDAD</th>\n",
       "      <th>DELITO</th>\n",
       "    </tr>\n",
       "  </thead>\n",
       "  <tbody>\n",
       "    <tr>\n",
       "      <th>0</th>\n",
       "      <td>ARMA BLANCA / CORTOPUNZANTE</td>\n",
       "      <td>AMAZONAS</td>\n",
       "      <td>Leticia (CT)</td>\n",
       "      <td>2023-04-13</td>\n",
       "      <td>FEMENINO</td>\n",
       "      <td>ADULTOS</td>\n",
       "      <td>91001000</td>\n",
       "      <td>ARTÍCULO 206. ACTO SEXUAL VIOLENTO</td>\n",
       "      <td>1</td>\n",
       "      <td>delitos_sexuales_4.xlsx</td>\n",
       "    </tr>\n",
       "    <tr>\n",
       "      <th>1</th>\n",
       "      <td>ARMA BLANCA / CORTOPUNZANTE</td>\n",
       "      <td>ANTIOQUIA</td>\n",
       "      <td>Abejorral</td>\n",
       "      <td>2023-08-11</td>\n",
       "      <td>FEMENINO</td>\n",
       "      <td>ADULTOS</td>\n",
       "      <td>5002000</td>\n",
       "      <td>ARTÍCULO 205. ACCESO CARNAL VIOLENTO</td>\n",
       "      <td>1</td>\n",
       "      <td>delitos_sexuales_4.xlsx</td>\n",
       "    </tr>\n",
       "    <tr>\n",
       "      <th>2</th>\n",
       "      <td>ARMA BLANCA / CORTOPUNZANTE</td>\n",
       "      <td>ANTIOQUIA</td>\n",
       "      <td>Amagá</td>\n",
       "      <td>2023-03-21</td>\n",
       "      <td>FEMENINO</td>\n",
       "      <td>ADULTOS</td>\n",
       "      <td>5030000</td>\n",
       "      <td>ARTÍCULO 205. ACCESO CARNAL VIOLENTO</td>\n",
       "      <td>1</td>\n",
       "      <td>delitos_sexuales_4.xlsx</td>\n",
       "    </tr>\n",
       "    <tr>\n",
       "      <th>3</th>\n",
       "      <td>ARMA BLANCA / CORTOPUNZANTE</td>\n",
       "      <td>ANTIOQUIA</td>\n",
       "      <td>Amalfi</td>\n",
       "      <td>2023-02-21</td>\n",
       "      <td>FEMENINO</td>\n",
       "      <td>ADULTOS</td>\n",
       "      <td>5031000</td>\n",
       "      <td>ARTÍCULO 205. ACCESO CARNAL VIOLENTO</td>\n",
       "      <td>1</td>\n",
       "      <td>delitos_sexuales_4.xlsx</td>\n",
       "    </tr>\n",
       "    <tr>\n",
       "      <th>4</th>\n",
       "      <td>ARMA BLANCA / CORTOPUNZANTE</td>\n",
       "      <td>ANTIOQUIA</td>\n",
       "      <td>Andes</td>\n",
       "      <td>2023-04-23</td>\n",
       "      <td>FEMENINO</td>\n",
       "      <td>ADOLESCENTES</td>\n",
       "      <td>5034000</td>\n",
       "      <td>ARTÍCULO 206. ACTO SEXUAL VIOLENTO</td>\n",
       "      <td>1</td>\n",
       "      <td>delitos_sexuales_4.xlsx</td>\n",
       "    </tr>\n",
       "    <tr>\n",
       "      <th>...</th>\n",
       "      <td>...</td>\n",
       "      <td>...</td>\n",
       "      <td>...</td>\n",
       "      <td>...</td>\n",
       "      <td>...</td>\n",
       "      <td>...</td>\n",
       "      <td>...</td>\n",
       "      <td>...</td>\n",
       "      <td>...</td>\n",
       "      <td>...</td>\n",
       "    </tr>\n",
       "    <tr>\n",
       "      <th>12848</th>\n",
       "      <td>SIN EMPLEO DE ARMAS</td>\n",
       "      <td>VICHADA</td>\n",
       "      <td>Puerto Carreño (CT)</td>\n",
       "      <td>2023-08-24</td>\n",
       "      <td>FEMENINO</td>\n",
       "      <td>MENORES</td>\n",
       "      <td>99001000</td>\n",
       "      <td>ARTÍCULO 208. ACCESO CARNAL ABUSIVO CON MENOR ...</td>\n",
       "      <td>1</td>\n",
       "      <td>delitos_sexuales_4.xlsx</td>\n",
       "    </tr>\n",
       "    <tr>\n",
       "      <th>12849</th>\n",
       "      <td>SIN EMPLEO DE ARMAS</td>\n",
       "      <td>VICHADA</td>\n",
       "      <td>Santa Rosalía</td>\n",
       "      <td>2023-01-04</td>\n",
       "      <td>FEMENINO</td>\n",
       "      <td>ADOLESCENTES</td>\n",
       "      <td>99624000</td>\n",
       "      <td>ARTÍCULO 205. ACCESO CARNAL VIOLENTO</td>\n",
       "      <td>1</td>\n",
       "      <td>delitos_sexuales_4.xlsx</td>\n",
       "    </tr>\n",
       "    <tr>\n",
       "      <th>12850</th>\n",
       "      <td>SIN EMPLEO DE ARMAS</td>\n",
       "      <td>VICHADA</td>\n",
       "      <td>Santa Rosalía</td>\n",
       "      <td>2023-01-04</td>\n",
       "      <td>FEMENINO</td>\n",
       "      <td>ADOLESCENTES</td>\n",
       "      <td>99624000</td>\n",
       "      <td>ARTÍCULO 208. ACCESO CARNAL ABUSIVO CON MENOR ...</td>\n",
       "      <td>1</td>\n",
       "      <td>delitos_sexuales_4.xlsx</td>\n",
       "    </tr>\n",
       "    <tr>\n",
       "      <th>12851</th>\n",
       "      <td>SIN EMPLEO DE ARMAS</td>\n",
       "      <td>VICHADA</td>\n",
       "      <td>Santa Rosalía</td>\n",
       "      <td>2023-05-08</td>\n",
       "      <td>FEMENINO</td>\n",
       "      <td>ADOLESCENTES</td>\n",
       "      <td>99624000</td>\n",
       "      <td>ARTÍCULO 210 A. ACOSO SEXUAL</td>\n",
       "      <td>1</td>\n",
       "      <td>delitos_sexuales_4.xlsx</td>\n",
       "    </tr>\n",
       "    <tr>\n",
       "      <th>12852</th>\n",
       "      <td>SIN EMPLEO DE ARMAS</td>\n",
       "      <td>VICHADA</td>\n",
       "      <td>Santa Rosalía</td>\n",
       "      <td>2023-08-03</td>\n",
       "      <td>FEMENINO</td>\n",
       "      <td>MENORES</td>\n",
       "      <td>99624000</td>\n",
       "      <td>ARTÍCULO 206. ACTO SEXUAL VIOLENTO</td>\n",
       "      <td>1</td>\n",
       "      <td>delitos_sexuales_4.xlsx</td>\n",
       "    </tr>\n",
       "  </tbody>\n",
       "</table>\n",
       "<p>12853 rows × 10 columns</p>\n",
       "</div>"
      ],
      "text/plain": [
       "                       ARMA MEDIO  DEPARTAMENTO            MUNICIPIO   \\\n",
       "0      ARMA BLANCA / CORTOPUNZANTE      AMAZONAS         Leticia (CT)   \n",
       "1      ARMA BLANCA / CORTOPUNZANTE     ANTIOQUIA            Abejorral   \n",
       "2      ARMA BLANCA / CORTOPUNZANTE     ANTIOQUIA                Amagá   \n",
       "3      ARMA BLANCA / CORTOPUNZANTE     ANTIOQUIA               Amalfi   \n",
       "4      ARMA BLANCA / CORTOPUNZANTE     ANTIOQUIA                Andes   \n",
       "...                            ...           ...                  ...   \n",
       "12848          SIN EMPLEO DE ARMAS       VICHADA  Puerto Carreño (CT)   \n",
       "12849          SIN EMPLEO DE ARMAS       VICHADA        Santa Rosalía   \n",
       "12850          SIN EMPLEO DE ARMAS       VICHADA        Santa Rosalía   \n",
       "12851          SIN EMPLEO DE ARMAS       VICHADA        Santa Rosalía   \n",
       "12852          SIN EMPLEO DE ARMAS       VICHADA        Santa Rosalía   \n",
       "\n",
       "      FECHA HECHO    GENERO  *AGRUPA_EDAD_PERSONA  CODIGO DANE   \\\n",
       "0       2023-04-13  FEMENINO              ADULTOS      91001000   \n",
       "1       2023-08-11  FEMENINO              ADULTOS       5002000   \n",
       "2       2023-03-21  FEMENINO              ADULTOS       5030000   \n",
       "3       2023-02-21  FEMENINO              ADULTOS       5031000   \n",
       "4       2023-04-23  FEMENINO         ADOLESCENTES       5034000   \n",
       "...            ...       ...                  ...           ...   \n",
       "12848   2023-08-24  FEMENINO              MENORES      99001000   \n",
       "12849   2023-01-04  FEMENINO         ADOLESCENTES      99624000   \n",
       "12850   2023-01-04  FEMENINO         ADOLESCENTES      99624000   \n",
       "12851   2023-05-08  FEMENINO         ADOLESCENTES      99624000   \n",
       "12852   2023-08-03  FEMENINO              MENORES      99624000   \n",
       "\n",
       "                                                 DELITOS  CANTIDAD   \\\n",
       "0                     ARTÍCULO 206. ACTO SEXUAL VIOLENTO          1   \n",
       "1                   ARTÍCULO 205. ACCESO CARNAL VIOLENTO          1   \n",
       "2                   ARTÍCULO 205. ACCESO CARNAL VIOLENTO          1   \n",
       "3                   ARTÍCULO 205. ACCESO CARNAL VIOLENTO          1   \n",
       "4                     ARTÍCULO 206. ACTO SEXUAL VIOLENTO          1   \n",
       "...                                                  ...        ...   \n",
       "12848  ARTÍCULO 208. ACCESO CARNAL ABUSIVO CON MENOR ...          1   \n",
       "12849               ARTÍCULO 205. ACCESO CARNAL VIOLENTO          1   \n",
       "12850  ARTÍCULO 208. ACCESO CARNAL ABUSIVO CON MENOR ...          1   \n",
       "12851                       ARTÍCULO 210 A. ACOSO SEXUAL          1   \n",
       "12852                 ARTÍCULO 206. ACTO SEXUAL VIOLENTO          1   \n",
       "\n",
       "                        DELITO  \n",
       "0      delitos_sexuales_4.xlsx  \n",
       "1      delitos_sexuales_4.xlsx  \n",
       "2      delitos_sexuales_4.xlsx  \n",
       "3      delitos_sexuales_4.xlsx  \n",
       "4      delitos_sexuales_4.xlsx  \n",
       "...                        ...  \n",
       "12848  delitos_sexuales_4.xlsx  \n",
       "12849  delitos_sexuales_4.xlsx  \n",
       "12850  delitos_sexuales_4.xlsx  \n",
       "12851  delitos_sexuales_4.xlsx  \n",
       "12852  delitos_sexuales_4.xlsx  \n",
       "\n",
       "[12853 rows x 10 columns]"
      ]
     },
     "execution_count": 23,
     "metadata": {},
     "output_type": "execute_result"
    }
   ],
   "source": [
    "data1 = dataframes[\"delitos_sexuales_4.xlsx\"]\n",
    "data1"
   ]
  },
  {
   "cell_type": "code",
   "execution_count": null,
   "metadata": {},
   "outputs": [
    {
     "data": {
      "text/plain": [
       "Index(['ARMA MEDIO ', 'DEPARTAMENTO ', 'MUNICIPIO ', 'FECHA HECHO ', 'GENERO ',\n",
       "       '*AGRUPA_EDAD_PERSONA', 'CODIGO DANE ', 'CANTIDAD ', 'DELITO'],\n",
       "      dtype='object')"
      ]
     },
     "execution_count": 17,
     "metadata": {},
     "output_type": "execute_result"
    }
   ],
   "source": [
    "data1.columns"
   ]
  },
  {
   "cell_type": "code",
   "execution_count": null,
   "metadata": {},
   "outputs": [],
   "source": [
    "data1['ARMA MEDIO '] = data1['ARMA MEDIO '].fillna(data1['ARMA MEDIO '].mode())"
   ]
  },
  {
   "cell_type": "code",
   "execution_count": null,
   "metadata": {},
   "outputs": [
    {
     "ename": "KeyError",
     "evalue": "'ARMA MEDIO '",
     "output_type": "error",
     "traceback": [
      "\u001b[0;31m---------------------------------------------------------------------------\u001b[0m",
      "\u001b[0;31mKeyError\u001b[0m                                  Traceback (most recent call last)",
      "\u001b[0;32m~/anaconda3/lib/python3.9/site-packages/pandas/core/indexes/base.py\u001b[0m in \u001b[0;36mget_loc\u001b[0;34m(self, key, method, tolerance)\u001b[0m\n\u001b[1;32m   3628\u001b[0m             \u001b[0;32mtry\u001b[0m\u001b[0;34m:\u001b[0m\u001b[0;34m\u001b[0m\u001b[0;34m\u001b[0m\u001b[0m\n\u001b[0;32m-> 3629\u001b[0;31m                 \u001b[0;32mreturn\u001b[0m \u001b[0mself\u001b[0m\u001b[0;34m.\u001b[0m\u001b[0m_engine\u001b[0m\u001b[0;34m.\u001b[0m\u001b[0mget_loc\u001b[0m\u001b[0;34m(\u001b[0m\u001b[0mcasted_key\u001b[0m\u001b[0;34m)\u001b[0m\u001b[0;34m\u001b[0m\u001b[0;34m\u001b[0m\u001b[0m\n\u001b[0m\u001b[1;32m   3630\u001b[0m             \u001b[0;32mexcept\u001b[0m \u001b[0mKeyError\u001b[0m \u001b[0;32mas\u001b[0m \u001b[0merr\u001b[0m\u001b[0;34m:\u001b[0m\u001b[0;34m\u001b[0m\u001b[0;34m\u001b[0m\u001b[0m\n",
      "\u001b[0;32m~/anaconda3/lib/python3.9/site-packages/pandas/_libs/index.pyx\u001b[0m in \u001b[0;36mpandas._libs.index.IndexEngine.get_loc\u001b[0;34m()\u001b[0m\n",
      "\u001b[0;32m~/anaconda3/lib/python3.9/site-packages/pandas/_libs/index.pyx\u001b[0m in \u001b[0;36mpandas._libs.index.IndexEngine.get_loc\u001b[0;34m()\u001b[0m\n",
      "\u001b[0;32mpandas/_libs/hashtable_class_helper.pxi\u001b[0m in \u001b[0;36mpandas._libs.hashtable.PyObjectHashTable.get_item\u001b[0;34m()\u001b[0m\n",
      "\u001b[0;32mpandas/_libs/hashtable_class_helper.pxi\u001b[0m in \u001b[0;36mpandas._libs.hashtable.PyObjectHashTable.get_item\u001b[0;34m()\u001b[0m\n",
      "\u001b[0;31mKeyError\u001b[0m: 'ARMA MEDIO '",
      "\nThe above exception was the direct cause of the following exception:\n",
      "\u001b[0;31mKeyError\u001b[0m                                  Traceback (most recent call last)",
      "\u001b[0;32m/tmp/ipykernel_11386/1005731994.py\u001b[0m in \u001b[0;36m<module>\u001b[0;34m\u001b[0m\n\u001b[1;32m      1\u001b[0m \u001b[0;32mfor\u001b[0m \u001b[0mdataframe\u001b[0m \u001b[0;32min\u001b[0m \u001b[0mdataframes\u001b[0m\u001b[0;34m.\u001b[0m\u001b[0mvalues\u001b[0m\u001b[0;34m(\u001b[0m\u001b[0;34m)\u001b[0m\u001b[0;34m:\u001b[0m\u001b[0;34m\u001b[0m\u001b[0;34m\u001b[0m\u001b[0m\n\u001b[0;32m----> 2\u001b[0;31m     \u001b[0mdataframe\u001b[0m\u001b[0;34m[\u001b[0m\u001b[0;34m\"ARMA MEDIO \"\u001b[0m\u001b[0;34m]\u001b[0m \u001b[0;34m=\u001b[0m \u001b[0mdataframe\u001b[0m\u001b[0;34m[\u001b[0m\u001b[0;34m\"ARMA MEDIO \"\u001b[0m\u001b[0;34m]\u001b[0m\u001b[0;34m.\u001b[0m\u001b[0mfillna\u001b[0m\u001b[0;34m(\u001b[0m\u001b[0mdataframe\u001b[0m\u001b[0;34m[\u001b[0m\u001b[0;34m\"ARMA MEDIO \"\u001b[0m\u001b[0;34m]\u001b[0m\u001b[0;34m.\u001b[0m\u001b[0mmode\u001b[0m\u001b[0;34m(\u001b[0m\u001b[0;34m)\u001b[0m\u001b[0;34m)\u001b[0m\u001b[0;34m\u001b[0m\u001b[0;34m\u001b[0m\u001b[0m\n\u001b[0m",
      "\u001b[0;32m~/anaconda3/lib/python3.9/site-packages/pandas/core/frame.py\u001b[0m in \u001b[0;36m__getitem__\u001b[0;34m(self, key)\u001b[0m\n\u001b[1;32m   3503\u001b[0m             \u001b[0;32mif\u001b[0m \u001b[0mself\u001b[0m\u001b[0;34m.\u001b[0m\u001b[0mcolumns\u001b[0m\u001b[0;34m.\u001b[0m\u001b[0mnlevels\u001b[0m \u001b[0;34m>\u001b[0m \u001b[0;36m1\u001b[0m\u001b[0;34m:\u001b[0m\u001b[0;34m\u001b[0m\u001b[0;34m\u001b[0m\u001b[0m\n\u001b[1;32m   3504\u001b[0m                 \u001b[0;32mreturn\u001b[0m \u001b[0mself\u001b[0m\u001b[0;34m.\u001b[0m\u001b[0m_getitem_multilevel\u001b[0m\u001b[0;34m(\u001b[0m\u001b[0mkey\u001b[0m\u001b[0;34m)\u001b[0m\u001b[0;34m\u001b[0m\u001b[0;34m\u001b[0m\u001b[0m\n\u001b[0;32m-> 3505\u001b[0;31m             \u001b[0mindexer\u001b[0m \u001b[0;34m=\u001b[0m \u001b[0mself\u001b[0m\u001b[0;34m.\u001b[0m\u001b[0mcolumns\u001b[0m\u001b[0;34m.\u001b[0m\u001b[0mget_loc\u001b[0m\u001b[0;34m(\u001b[0m\u001b[0mkey\u001b[0m\u001b[0;34m)\u001b[0m\u001b[0;34m\u001b[0m\u001b[0;34m\u001b[0m\u001b[0m\n\u001b[0m\u001b[1;32m   3506\u001b[0m             \u001b[0;32mif\u001b[0m \u001b[0mis_integer\u001b[0m\u001b[0;34m(\u001b[0m\u001b[0mindexer\u001b[0m\u001b[0;34m)\u001b[0m\u001b[0;34m:\u001b[0m\u001b[0;34m\u001b[0m\u001b[0;34m\u001b[0m\u001b[0m\n\u001b[1;32m   3507\u001b[0m                 \u001b[0mindexer\u001b[0m \u001b[0;34m=\u001b[0m \u001b[0;34m[\u001b[0m\u001b[0mindexer\u001b[0m\u001b[0;34m]\u001b[0m\u001b[0;34m\u001b[0m\u001b[0;34m\u001b[0m\u001b[0m\n",
      "\u001b[0;32m~/anaconda3/lib/python3.9/site-packages/pandas/core/indexes/base.py\u001b[0m in \u001b[0;36mget_loc\u001b[0;34m(self, key, method, tolerance)\u001b[0m\n\u001b[1;32m   3629\u001b[0m                 \u001b[0;32mreturn\u001b[0m \u001b[0mself\u001b[0m\u001b[0;34m.\u001b[0m\u001b[0m_engine\u001b[0m\u001b[0;34m.\u001b[0m\u001b[0mget_loc\u001b[0m\u001b[0;34m(\u001b[0m\u001b[0mcasted_key\u001b[0m\u001b[0;34m)\u001b[0m\u001b[0;34m\u001b[0m\u001b[0;34m\u001b[0m\u001b[0m\n\u001b[1;32m   3630\u001b[0m             \u001b[0;32mexcept\u001b[0m \u001b[0mKeyError\u001b[0m \u001b[0;32mas\u001b[0m \u001b[0merr\u001b[0m\u001b[0;34m:\u001b[0m\u001b[0;34m\u001b[0m\u001b[0;34m\u001b[0m\u001b[0m\n\u001b[0;32m-> 3631\u001b[0;31m                 \u001b[0;32mraise\u001b[0m \u001b[0mKeyError\u001b[0m\u001b[0;34m(\u001b[0m\u001b[0mkey\u001b[0m\u001b[0;34m)\u001b[0m \u001b[0;32mfrom\u001b[0m \u001b[0merr\u001b[0m\u001b[0;34m\u001b[0m\u001b[0;34m\u001b[0m\u001b[0m\n\u001b[0m\u001b[1;32m   3632\u001b[0m             \u001b[0;32mexcept\u001b[0m \u001b[0mTypeError\u001b[0m\u001b[0;34m:\u001b[0m\u001b[0;34m\u001b[0m\u001b[0;34m\u001b[0m\u001b[0m\n\u001b[1;32m   3633\u001b[0m                 \u001b[0;31m# If we have a listlike key, _check_indexing_error will raise\u001b[0m\u001b[0;34m\u001b[0m\u001b[0;34m\u001b[0m\u001b[0m\n",
      "\u001b[0;31mKeyError\u001b[0m: 'ARMA MEDIO '"
     ]
    }
   ],
   "source": [
    "for dataframe in dataframes.values():\n",
    "    dataframe[\"ARMA MEDIO \"] = dataframe[\"ARMA MEDIO \"].fillna(dataframe[\"ARMA MEDIO \"].mode())"
   ]
  },
  {
   "cell_type": "code",
   "execution_count": null,
   "metadata": {},
   "outputs": [
    {
     "data": {
      "text/plain": [
       "(314429, 15)"
      ]
     },
     "execution_count": 5,
     "metadata": {},
     "output_type": "execute_result"
    }
   ],
   "source": [
    "# Join all the dataframes into one\n",
    "df = pd.concat(dataframe for dataframe in dataframes.values())\n",
    "df.shape"
   ]
  }
 ],
 "metadata": {
  "kernelspec": {
   "display_name": "base",
   "language": "python",
   "name": "python3"
  },
  "language_info": {
   "codemirror_mode": {
    "name": "ipython",
    "version": 3
   },
   "file_extension": ".py",
   "mimetype": "text/x-python",
   "name": "python",
   "nbconvert_exporter": "python",
   "pygments_lexer": "ipython3",
   "version": "3.9.13"
  },
  "orig_nbformat": 4
 },
 "nbformat": 4,
 "nbformat_minor": 2
}
