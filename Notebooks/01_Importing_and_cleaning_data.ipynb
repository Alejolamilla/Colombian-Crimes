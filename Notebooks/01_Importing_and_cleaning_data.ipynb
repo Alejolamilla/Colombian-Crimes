{
 "cells": [
  {
   "cell_type": "code",
   "execution_count": 161,
   "metadata": {},
   "outputs": [
    {
     "name": "stdout",
     "output_type": "stream",
     "text": [
      "The autoreload extension is already loaded. To reload it, use:\n",
      "  %reload_ext autoreload\n"
     ]
    }
   ],
   "source": [
    "%load_ext autoreload\n",
    "%autoreload 2\n",
    "\n",
    "import toolbox\n",
    "import pandas as pd"
   ]
  },
  {
   "cell_type": "markdown",
   "metadata": {},
   "source": [
    "# Importing the Data"
   ]
  },
  {
   "cell_type": "code",
   "execution_count": 162,
   "metadata": {},
   "outputs": [],
   "source": [
    "# Where the raw data is hosted\n",
    "raw_data = \"../Data/Raw/\""
   ]
  },
  {
   "cell_type": "code",
   "execution_count": 163,
   "metadata": {},
   "outputs": [],
   "source": [
    "# Convert the excel files into pd objects and load them on a dictionary\n",
    "dataframes = toolbox.load_xlsx_dataframes(raw_data, avoid=[\".gitkeep\"], skip_rows=9, skip_footer=6)"
   ]
  },
  {
   "cell_type": "markdown",
   "metadata": {},
   "source": [
    "# Cleaning the Data"
   ]
  },
  {
   "cell_type": "code",
   "execution_count": 164,
   "metadata": {},
   "outputs": [
    {
     "data": {
      "text/plain": [
       "ARMA MEDIO               46250\n",
       "DEPARTAMENTO             14726\n",
       "MUNICIPIO                    0\n",
       "FECHA HECHO              46250\n",
       "GENERO                   46498\n",
       "*AGRUPA_EDAD_PERSONA     35019\n",
       "CODIGO DANE              46250\n",
       "CANTIDAD                     0\n",
       "DELITO                       0\n",
       "DELITOS                 301576\n",
       "ARMAS_MEDIOS            268179\n",
       "FECHA                   268179\n",
       "CODIGO_DANE             268179\n",
       "DEPARTAMENTO            299703\n",
       "GENERO                  302950\n",
       "dtype: int64"
      ]
     },
     "execution_count": 164,
     "metadata": {},
     "output_type": "execute_result"
    }
   ],
   "source": [
    "# Join all the dataframes into one\n",
    "df = pd.concat(dataframe for dataframe in dataframes.values())\n",
    "df.shape\n",
    "\n",
    "df.isna().sum()"
   ]
  },
  {
   "cell_type": "code",
   "execution_count": 165,
   "metadata": {},
   "outputs": [],
   "source": [
    "# List of dataframes to have an specific order\n",
    "data_order = [\"amenzas_4.xlsx\", \"delitos_sexuales_4.xlsx\", \"extorsion_5.xlsx\", \"homicidio_intencional_5.xlsx\", \"homicidios_7.xls\", \n",
    "                  \"homicidios_en_accidente_de_transito_4.xlsx\", \"hurto_a_comercio_6.xlsx\", \"hurto_a_motocicletas_4.xlsx\", \"hurto_a_personas_20.xlsx\",\n",
    "                  \"hurto_a_residencias_11.xlsx\", \"hurto_automotores_11.xlsx\", \"hurto_cabezas_de_ganado_3.xlsx\", \"hurto_entidades_financieras_4.xlsx\",\n",
    "                  \"hurto_pirateria_terrestre_4.xlsx\", \"lesiones_en_accidente_de_transito_9.xlsx\", \"lesiones_personales_7.xlsx\",\n",
    "                  \"lesiones_personales_8.xlsx\", \"secuestro_4.xlsx\", \"terrorismo_4.xlsx\", \"violencia_intrafamiliar_4.xlsx\"]\n",
    "\n",
    "df_list = [dataframes[data] for data in data_order]"
   ]
  },
  {
   "cell_type": "code",
   "execution_count": 166,
   "metadata": {},
   "outputs": [
    {
     "name": "stdout",
     "output_type": "stream",
     "text": [
      "9\n",
      "10\n",
      "9\n",
      "9\n",
      "9\n",
      "9\n",
      "7\n",
      "7\n",
      "9\n",
      "9\n",
      "7\n",
      "9\n",
      "7\n",
      "7\n",
      "9\n",
      "9\n",
      "9\n",
      "9\n",
      "7\n",
      "9\n"
     ]
    }
   ],
   "source": [
    "# How many columns has each df?\n",
    "for dataframe in df_list:\n",
    "    print(len(dataframe.columns))"
   ]
  },
  {
   "cell_type": "code",
   "execution_count": 167,
   "metadata": {},
   "outputs": [],
   "source": [
    "# Removing the column \"DELITOS\" since it only for this dataframe and will not aport any further information to the general data\n",
    "df_list[1] = df_list[1].drop(\"DELITOS\", axis=1)"
   ]
  },
  {
   "cell_type": "code",
   "execution_count": 168,
   "metadata": {},
   "outputs": [
    {
     "name": "stdout",
     "output_type": "stream",
     "text": [
      "GENERO \n",
      "GENERO \n",
      "GENERO \n",
      "GENERO \n",
      "GENERO\n",
      "GENERO \n",
      "CODIGO_DANE\n",
      "CODIGO_DANE\n",
      "GENERO \n",
      "GENERO \n",
      "CODIGO_DANE\n",
      "GENERO \n",
      "CODIGO DANE \n",
      "CODIGO DANE \n",
      "GENERO \n",
      "GENERO \n",
      "GENERO \n",
      "CODIGO DANE \n",
      "CODIGO DANE \n",
      "GENERO \n"
     ]
    }
   ],
   "source": [
    "for dataframe in df_list:\n",
    "    print(dataframe.columns[4])"
   ]
  },
  {
   "cell_type": "markdown",
   "metadata": {},
   "source": [
    "I will add the genre column to the dataframes that doesnt have it to be consistent when the dataframs are joint."
   ]
  },
  {
   "cell_type": "code",
   "execution_count": 169,
   "metadata": {},
   "outputs": [
    {
     "data": {
      "text/plain": [
       "[None, None, None, None, None, None]"
      ]
     },
     "execution_count": 169,
     "metadata": {},
     "output_type": "execute_result"
    }
   ],
   "source": [
    "# List of dataframes that doesnt have the column \"GENERO\"\n",
    "non_genre_dfs = [6, 7, 10, 12, 13, 18]\n",
    "\n",
    "# Add the column \"genre\"\n",
    "[df_list[no_genre_dataframe].insert(4, \"genero\", \"NO REPORTADO\") for no_genre_dataframe in non_genre_dfs]\n",
    "\n",
    "# Adding the column \"age_group\" to the columns that doesnt have it by default\n",
    "[df_list[no_genre_dataframe].insert(5, \"age_group\", \"NO REPORTADO\") for no_genre_dataframe in non_genre_dfs]"
   ]
  },
  {
   "cell_type": "code",
   "execution_count": 170,
   "metadata": {},
   "outputs": [
    {
     "name": "stdout",
     "output_type": "stream",
     "text": [
      "9\n",
      "9\n",
      "9\n",
      "9\n",
      "9\n",
      "9\n",
      "9\n",
      "9\n",
      "9\n",
      "9\n",
      "9\n",
      "9\n",
      "9\n",
      "9\n",
      "9\n",
      "9\n",
      "9\n",
      "9\n",
      "9\n",
      "9\n"
     ]
    }
   ],
   "source": [
    "# checking if now all dataframes have the same amount of columns\n",
    "for dataframe in df_list:\n",
    "    print(len(dataframe.columns))"
   ]
  },
  {
   "cell_type": "code",
   "execution_count": 171,
   "metadata": {},
   "outputs": [],
   "source": [
    "# Change column positions of the dataframe 3 since it has a different order\n",
    "df_list[17] = toolbox.move_column(df_list[17], \"GENERO \", 4)\n",
    "df_list[17] = toolbox.move_column(df_list[17], \"*AGRUPA_EDAD_PERSONA\", 5)"
   ]
  },
  {
   "cell_type": "code",
   "execution_count": 172,
   "metadata": {},
   "outputs": [],
   "source": [
    "# Some columns of some dataframes arent properly named, fixing that \n",
    "df_list[14] = df_list[14].rename(columns={'GENERO ': 'codigo_dane', 'CODIGO DANE ': 'genero'})\n",
    "df_list[14] = toolbox.move_column(df_list[14], \"codigo_dane\", 6)\n",
    "df_list[14] = toolbox.move_column(df_list[14], \"genero\", 4)\n",
    "\n",
    "df_list[16] = df_list[16].rename(columns={'GENERO ': 'codigo_dane', 'CODIGO DANE ': 'genero'})\n",
    "df_list[16] = toolbox.move_column(df_list[14], \"codigo_dane\", 6)\n",
    "df_list[16] = toolbox.move_column(df_list[14], \"genero\", 4)\n"
   ]
  },
  {
   "cell_type": "code",
   "execution_count": 173,
   "metadata": {},
   "outputs": [
    {
     "name": "stdout",
     "output_type": "stream",
     "text": [
      "Index(['ARMA MEDIO ', 'DEPARTAMENTO ', 'MUNICIPIO ', 'FECHA HECHO ', 'genero',\n",
      "       'age_group', 'CODIGO DANE ', 'CANTIDAD ', 'DELITO'],\n",
      "      dtype='object')\n",
      "Index(['ARMA MEDIO ', 'DEPARTAMENTO ', 'MUNICIPIO ', 'FECHA HECHO ', 'genero',\n",
      "       '*AGRUPA_EDAD_PERSONA', 'codigo_dane', 'CANTIDAD ', 'DELITO'],\n",
      "      dtype='object')\n",
      "Index(['ARMA MEDIO ', 'DEPARTAMENTO ', 'MUNICIPIO ', 'FECHA HECHO ', 'GENERO ',\n",
      "       '*AGRUPA_EDAD_PERSONA', 'CODIGO DANE ', 'CANTIDAD ', 'DELITO'],\n",
      "      dtype='object')\n",
      "Index(['ARMA MEDIO ', 'DEPARTAMENTO ', 'MUNICIPIO ', 'FECHA HECHO ', 'genero',\n",
      "       '*AGRUPA_EDAD_PERSONA', 'codigo_dane', 'CANTIDAD ', 'DELITO'],\n",
      "      dtype='object')\n",
      "Index(['ARMA MEDIO ', 'DEPARTAMENTO ', 'MUNICIPIO ', 'FECHA HECHO ', 'GENERO ',\n",
      "       '*AGRUPA_EDAD_PERSONA', 'CODIGO DANE ', 'CANTIDAD ', 'DELITO'],\n",
      "      dtype='object')\n",
      "Index(['ARMA MEDIO ', 'DEPARTAMENTO ', 'MUNICIPIO ', 'FECHA HECHO ', 'genero',\n",
      "       'age_group', 'CODIGO DANE ', 'CANTIDAD ', 'DELITO'],\n",
      "      dtype='object')\n",
      "Index(['ARMA MEDIO ', 'DEPARTAMENTO ', 'MUNICIPIO ', 'FECHA HECHO ', 'GENERO ',\n",
      "       '*AGRUPA_EDAD_PERSONA', 'CODIGO DANE ', 'CANTIDAD ', 'DELITO'],\n",
      "      dtype='object')\n"
     ]
    }
   ],
   "source": [
    "for i in range(13, 20):\n",
    "    print(df_list[i].columns)"
   ]
  },
  {
   "cell_type": "code",
   "execution_count": 174,
   "metadata": {},
   "outputs": [
    {
     "name": "stdout",
     "output_type": "stream",
     "text": [
      "Index(['ARMA MEDIO ', 'DEPARTAMENTO ', 'MUNICIPIO ', 'FECHA HECHO ', 'GENERO ',\n",
      "       '*AGRUPA_EDAD_PERSONA', 'CODIGO DANE ', 'CANTIDAD ', 'DELITO'],\n",
      "      dtype='object')\n",
      "Index(['ARMA MEDIO ', 'DEPARTAMENTO ', 'MUNICIPIO ', 'FECHA HECHO ', 'GENERO ',\n",
      "       '*AGRUPA_EDAD_PERSONA', 'CODIGO DANE ', 'CANTIDAD ', 'DELITO'],\n",
      "      dtype='object')\n",
      "Index(['ARMA MEDIO ', 'DEPARTAMENTO ', 'MUNICIPIO ', 'FECHA HECHO ', 'GENERO ',\n",
      "       '*AGRUPA_EDAD_PERSONA', 'CODIGO DANE ', 'CANTIDAD ', 'DELITO'],\n",
      "      dtype='object')\n",
      "Index(['ARMA MEDIO ', 'DEPARTAMENTO ', 'MUNICIPIO ', 'FECHA HECHO ', 'GENERO ',\n",
      "       '*AGRUPA_EDAD_PERSONA', 'CODIGO DANE ', 'CANTIDAD ', 'DELITO'],\n",
      "      dtype='object')\n",
      "Index(['ARMAS_MEDIOS', 'DEPARTAMENTO ', 'MUNICIPIO ', 'FECHA ', 'GENERO',\n",
      "       '*AGRUPA_EDAD_PERSONA', 'CODIGO_DANE', 'CANTIDAD ', 'DELITO'],\n",
      "      dtype='object')\n",
      "Index(['ARMA MEDIO ', 'DEPARTAMENTO ', 'MUNICIPIO ', 'FECHA HECHO ', 'GENERO ',\n",
      "       '*AGRUPA_EDAD_PERSONA', 'CODIGO DANE ', 'CANTIDAD ', 'DELITO'],\n",
      "      dtype='object')\n",
      "Index(['ARMAS_MEDIOS', 'DEPARTAMENTO', 'MUNICIPIO ', 'FECHA ', 'genero',\n",
      "       'age_group', 'CODIGO_DANE', 'CANTIDAD ', 'DELITO'],\n",
      "      dtype='object')\n",
      "Index(['ARMAS_MEDIOS', 'DEPARTAMENTO ', 'MUNICIPIO ', 'FECHA ', 'genero',\n",
      "       'age_group', 'CODIGO_DANE', 'CANTIDAD ', 'DELITO'],\n",
      "      dtype='object')\n",
      "Index(['ARMA MEDIO ', 'DEPARTAMENTO ', 'MUNICIPIO ', 'FECHA HECHO ', 'GENERO ',\n",
      "       '*AGRUPA_EDAD_PERSONA', 'CODIGO DANE ', 'CANTIDAD ', 'DELITO'],\n",
      "      dtype='object')\n",
      "Index(['ARMA MEDIO ', 'DEPARTAMENTO ', 'MUNICIPIO ', 'FECHA HECHO ', 'GENERO ',\n",
      "       '*AGRUPA_EDAD_PERSONA', 'CODIGO DANE ', 'CANTIDAD ', 'DELITO'],\n",
      "      dtype='object')\n",
      "Index(['ARMAS_MEDIOS', 'DEPARTAMENTO ', 'MUNICIPIO ', 'FECHA ', 'genero',\n",
      "       'age_group', 'CODIGO_DANE', 'CANTIDAD ', 'DELITO'],\n",
      "      dtype='object')\n",
      "Index(['ARMA MEDIO ', 'DEPARTAMENTO ', 'MUNICIPIO ', 'FECHA HECHO ', 'GENERO ',\n",
      "       '*AGRUPA_EDAD_PERSONA', 'CODIGO DANE ', 'CANTIDAD ', 'DELITO'],\n",
      "      dtype='object')\n",
      "Index(['ARMA MEDIO ', 'DEPARTAMENTO ', 'MUNICIPIO ', 'FECHA HECHO ', 'genero',\n",
      "       'age_group', 'CODIGO DANE ', 'CANTIDAD ', 'DELITO'],\n",
      "      dtype='object')\n",
      "Index(['ARMA MEDIO ', 'DEPARTAMENTO ', 'MUNICIPIO ', 'FECHA HECHO ', 'genero',\n",
      "       'age_group', 'CODIGO DANE ', 'CANTIDAD ', 'DELITO'],\n",
      "      dtype='object')\n",
      "Index(['ARMA MEDIO ', 'DEPARTAMENTO ', 'MUNICIPIO ', 'FECHA HECHO ', 'genero',\n",
      "       '*AGRUPA_EDAD_PERSONA', 'codigo_dane', 'CANTIDAD ', 'DELITO'],\n",
      "      dtype='object')\n",
      "Index(['ARMA MEDIO ', 'DEPARTAMENTO ', 'MUNICIPIO ', 'FECHA HECHO ', 'GENERO ',\n",
      "       '*AGRUPA_EDAD_PERSONA', 'CODIGO DANE ', 'CANTIDAD ', 'DELITO'],\n",
      "      dtype='object')\n",
      "Index(['ARMA MEDIO ', 'DEPARTAMENTO ', 'MUNICIPIO ', 'FECHA HECHO ', 'genero',\n",
      "       '*AGRUPA_EDAD_PERSONA', 'codigo_dane', 'CANTIDAD ', 'DELITO'],\n",
      "      dtype='object')\n",
      "Index(['ARMA MEDIO ', 'DEPARTAMENTO ', 'MUNICIPIO ', 'FECHA HECHO ', 'GENERO ',\n",
      "       '*AGRUPA_EDAD_PERSONA', 'CODIGO DANE ', 'CANTIDAD ', 'DELITO'],\n",
      "      dtype='object')\n",
      "Index(['ARMA MEDIO ', 'DEPARTAMENTO ', 'MUNICIPIO ', 'FECHA HECHO ', 'genero',\n",
      "       'age_group', 'CODIGO DANE ', 'CANTIDAD ', 'DELITO'],\n",
      "      dtype='object')\n",
      "Index(['ARMA MEDIO ', 'DEPARTAMENTO ', 'MUNICIPIO ', 'FECHA HECHO ', 'GENERO ',\n",
      "       '*AGRUPA_EDAD_PERSONA', 'CODIGO DANE ', 'CANTIDAD ', 'DELITO'],\n",
      "      dtype='object')\n"
     ]
    }
   ],
   "source": [
    "# Checking that all columns has the same order\n",
    "for dataframe in df_list:\n",
    "    print(dataframe.columns)"
   ]
  },
  {
   "cell_type": "code",
   "execution_count": 175,
   "metadata": {},
   "outputs": [],
   "source": [
    "# The new name for the columns\n",
    "new_column_names = [\"arma\", \"departamento\", \"municipio\", \"fecha\", \"genero\", \"grupo_etario\", \"codigo_dane\", \"cantidad\", \"delito\"]\n",
    "\n",
    "#change the name of the columns\n",
    "for i in range(9):\n",
    "    df_list = toolbox.update_columns_name(df_list, i, new_column_names[i])"
   ]
  },
  {
   "cell_type": "code",
   "execution_count": 176,
   "metadata": {},
   "outputs": [
    {
     "name": "stdout",
     "output_type": "stream",
     "text": [
      "Index(['arma', 'departamento', 'municipio', 'fecha', 'genero', 'grupo_etario',\n",
      "       'codigo_dane', 'cantidad', 'delito'],\n",
      "      dtype='object')\n",
      "Index(['arma', 'departamento', 'municipio', 'fecha', 'genero', 'grupo_etario',\n",
      "       'codigo_dane', 'cantidad', 'delito'],\n",
      "      dtype='object')\n",
      "Index(['arma', 'departamento', 'municipio', 'fecha', 'genero', 'grupo_etario',\n",
      "       'codigo_dane', 'cantidad', 'delito'],\n",
      "      dtype='object')\n",
      "Index(['arma', 'departamento', 'municipio', 'fecha', 'genero', 'grupo_etario',\n",
      "       'codigo_dane', 'cantidad', 'delito'],\n",
      "      dtype='object')\n",
      "Index(['arma', 'departamento', 'municipio', 'fecha', 'genero', 'grupo_etario',\n",
      "       'codigo_dane', 'cantidad', 'delito'],\n",
      "      dtype='object')\n",
      "Index(['arma', 'departamento', 'municipio', 'fecha', 'genero', 'grupo_etario',\n",
      "       'codigo_dane', 'cantidad', 'delito'],\n",
      "      dtype='object')\n",
      "Index(['arma', 'departamento', 'municipio', 'fecha', 'genero', 'grupo_etario',\n",
      "       'codigo_dane', 'cantidad', 'delito'],\n",
      "      dtype='object')\n",
      "Index(['arma', 'departamento', 'municipio', 'fecha', 'genero', 'grupo_etario',\n",
      "       'codigo_dane', 'cantidad', 'delito'],\n",
      "      dtype='object')\n",
      "Index(['arma', 'departamento', 'municipio', 'fecha', 'genero', 'grupo_etario',\n",
      "       'codigo_dane', 'cantidad', 'delito'],\n",
      "      dtype='object')\n",
      "Index(['arma', 'departamento', 'municipio', 'fecha', 'genero', 'grupo_etario',\n",
      "       'codigo_dane', 'cantidad', 'delito'],\n",
      "      dtype='object')\n",
      "Index(['arma', 'departamento', 'municipio', 'fecha', 'genero', 'grupo_etario',\n",
      "       'codigo_dane', 'cantidad', 'delito'],\n",
      "      dtype='object')\n",
      "Index(['arma', 'departamento', 'municipio', 'fecha', 'genero', 'grupo_etario',\n",
      "       'codigo_dane', 'cantidad', 'delito'],\n",
      "      dtype='object')\n",
      "Index(['arma', 'departamento', 'municipio', 'fecha', 'genero', 'grupo_etario',\n",
      "       'codigo_dane', 'cantidad', 'delito'],\n",
      "      dtype='object')\n",
      "Index(['arma', 'departamento', 'municipio', 'fecha', 'genero', 'grupo_etario',\n",
      "       'codigo_dane', 'cantidad', 'delito'],\n",
      "      dtype='object')\n",
      "Index(['arma', 'departamento', 'municipio', 'fecha', 'genero', 'grupo_etario',\n",
      "       'codigo_dane', 'cantidad', 'delito'],\n",
      "      dtype='object')\n",
      "Index(['arma', 'departamento', 'municipio', 'fecha', 'genero', 'grupo_etario',\n",
      "       'codigo_dane', 'cantidad', 'delito'],\n",
      "      dtype='object')\n",
      "Index(['arma', 'departamento', 'municipio', 'fecha', 'genero', 'grupo_etario',\n",
      "       'codigo_dane', 'cantidad', 'delito'],\n",
      "      dtype='object')\n",
      "Index(['arma', 'departamento', 'municipio', 'fecha', 'genero', 'grupo_etario',\n",
      "       'codigo_dane', 'cantidad', 'delito'],\n",
      "      dtype='object')\n",
      "Index(['arma', 'departamento', 'municipio', 'fecha', 'genero', 'grupo_etario',\n",
      "       'codigo_dane', 'cantidad', 'delito'],\n",
      "      dtype='object')\n",
      "Index(['arma', 'departamento', 'municipio', 'fecha', 'genero', 'grupo_etario',\n",
      "       'codigo_dane', 'cantidad', 'delito'],\n",
      "      dtype='object')\n"
     ]
    }
   ],
   "source": [
    "# Checking that all columns names are the same\n",
    "for dataframe in df_list:\n",
    "    print(dataframe.columns)"
   ]
  },
  {
   "cell_type": "code",
   "execution_count": 177,
   "metadata": {},
   "outputs": [
    {
     "data": {
      "text/plain": [
       "(295886, 9)"
      ]
     },
     "execution_count": 177,
     "metadata": {},
     "output_type": "execute_result"
    }
   ],
   "source": [
    "# Join all the dataframes into one\n",
    "df = pd.concat(dataframe for dataframe in df_list)\n",
    "df.shape"
   ]
  },
  {
   "cell_type": "code",
   "execution_count": 178,
   "metadata": {},
   "outputs": [
    {
     "data": {
      "text/plain": [
       "arma            0\n",
       "departamento    0\n",
       "municipio       0\n",
       "fecha           0\n",
       "genero          0\n",
       "grupo_etario    0\n",
       "codigo_dane     0\n",
       "cantidad        0\n",
       "delito          0\n",
       "dtype: int64"
      ]
     },
     "execution_count": 178,
     "metadata": {},
     "output_type": "execute_result"
    }
   ],
   "source": [
    "df.isnull().sum()"
   ]
  },
  {
   "cell_type": "code",
   "execution_count": 179,
   "metadata": {},
   "outputs": [
    {
     "data": {
      "text/plain": [
       "array(['MASCULINO', 'FEMENINO', '-', 'NO REPORTADO'], dtype=object)"
      ]
     },
     "execution_count": 179,
     "metadata": {},
     "output_type": "execute_result"
    }
   ],
   "source": [
    "df[\"genero\"].unique()"
   ]
  },
  {
   "cell_type": "code",
   "execution_count": 180,
   "metadata": {},
   "outputs": [
    {
     "data": {
      "text/plain": [
       "array(['ADULTOS', 'ADOLESCENTES', 'MENORES', '-', 'NO REPORTADO'],\n",
       "      dtype=object)"
      ]
     },
     "execution_count": 180,
     "metadata": {},
     "output_type": "execute_result"
    }
   ],
   "source": [
    "df[\"grupo_etario\"].unique()"
   ]
  },
  {
   "cell_type": "code",
   "execution_count": 181,
   "metadata": {},
   "outputs": [],
   "source": [
    "# Replacing the values to have only 3 categories, \"Femenino\", \"Masculino\" and \"No reportado\"\n",
    "df[\"genero\"].replace(\"-\", \"NO REPORTADO\", inplace=True)\n",
    "\n",
    "# Replacing the values to merge tow categories, \"No Reportado\" and \"-\"\n",
    "df[\"grupo_etario\"].replace(\"-\", \"NO REPORTADO\", inplace=True)\n"
   ]
  },
  {
   "cell_type": "code",
   "execution_count": 182,
   "metadata": {},
   "outputs": [],
   "source": [
    "# Export the new dataframe clear\n",
    "df.to_csv(\"../Data/Processed/crimes_clear.csv\", index=False)"
   ]
  },
  {
   "cell_type": "code",
   "execution_count": null,
   "metadata": {},
   "outputs": [],
   "source": []
  }
 ],
 "metadata": {
  "kernelspec": {
   "display_name": "base",
   "language": "python",
   "name": "python3"
  },
  "language_info": {
   "codemirror_mode": {
    "name": "ipython",
    "version": 3
   },
   "file_extension": ".py",
   "mimetype": "text/x-python",
   "name": "python",
   "nbconvert_exporter": "python",
   "pygments_lexer": "ipython3",
   "version": "3.9.13"
  },
  "orig_nbformat": 4
 },
 "nbformat": 4,
 "nbformat_minor": 2
}
